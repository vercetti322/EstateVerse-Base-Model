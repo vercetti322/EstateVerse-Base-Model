{
 "cells": [
  {
   "cell_type": "markdown",
   "metadata": {},
   "source": [
    "## Advanced Regression on House Rent Prediction"
   ]
  },
  {
   "cell_type": "code",
   "execution_count": 1,
   "metadata": {},
   "outputs": [],
   "source": [
    "import os\n",
    "import pandas as pd\n",
    "import numpy as np \n",
    "import seaborn as sns\n",
    "import matplotlib.pyplot as plt "
   ]
  },
  {
   "cell_type": "markdown",
   "metadata": {},
   "source": [
    "### Cleaning the Data"
   ]
  },
  {
   "cell_type": "code",
   "execution_count": 2,
   "metadata": {},
   "outputs": [],
   "source": [
    "# loading the datasets\n",
    "train_df = pd.read_csv('Data\\\\train_data.csv')\n",
    "test_df = pd.read_csv('Data\\\\test_data.csv')"
   ]
  },
  {
   "cell_type": "code",
   "execution_count": 3,
   "metadata": {},
   "outputs": [
    {
     "data": {
      "text/html": [
       "<div>\n",
       "<style scoped>\n",
       "    .dataframe tbody tr th:only-of-type {\n",
       "        vertical-align: middle;\n",
       "    }\n",
       "\n",
       "    .dataframe tbody tr th {\n",
       "        vertical-align: top;\n",
       "    }\n",
       "\n",
       "    .dataframe thead th {\n",
       "        text-align: right;\n",
       "    }\n",
       "</style>\n",
       "<table border=\"1\" class=\"dataframe\">\n",
       "  <thead>\n",
       "    <tr style=\"text-align: right;\">\n",
       "      <th></th>\n",
       "      <th>Bedrooms</th>\n",
       "      <th>Paid User</th>\n",
       "      <th>Locality</th>\n",
       "      <th>Property Type</th>\n",
       "      <th>User Type</th>\n",
       "      <th>Prime Location</th>\n",
       "      <th>Other</th>\n",
       "      <th>Price</th>\n",
       "    </tr>\n",
       "  </thead>\n",
       "  <tbody>\n",
       "    <tr>\n",
       "      <th>0</th>\n",
       "      <td>2</td>\n",
       "      <td>N</td>\n",
       "      <td>Patancheru</td>\n",
       "      <td>Residential House</td>\n",
       "      <td>Owner</td>\n",
       "      <td>Y</td>\n",
       "      <td>***carpet area*2500 sqft****status*Ready to Mo...</td>\n",
       "      <td>1.10 Cr</td>\n",
       "    </tr>\n",
       "    <tr>\n",
       "      <th>1</th>\n",
       "      <td>2</td>\n",
       "      <td>N</td>\n",
       "      <td>Ramanthapur, NH 2 2</td>\n",
       "      <td>Apartment</td>\n",
       "      <td>Owner</td>\n",
       "      <td>Y</td>\n",
       "      <td>***carpet area*1007 sqft****status*Ready to Mo...</td>\n",
       "      <td>50 Lac</td>\n",
       "    </tr>\n",
       "    <tr>\n",
       "      <th>2</th>\n",
       "      <td>2</td>\n",
       "      <td>N</td>\n",
       "      <td>Malkajgiri</td>\n",
       "      <td>Apartment</td>\n",
       "      <td>Owner</td>\n",
       "      <td>Y</td>\n",
       "      <td>***super area*1045 sqft****status*Ready to Mov...</td>\n",
       "      <td>49 Lac</td>\n",
       "    </tr>\n",
       "    <tr>\n",
       "      <th>3</th>\n",
       "      <td>3</td>\n",
       "      <td>Y</td>\n",
       "      <td>Manikonda, Outer Ring Road</td>\n",
       "      <td>Apartment</td>\n",
       "      <td>Builder</td>\n",
       "      <td>Y</td>\n",
       "      <td>***super area*1640 sqft****status**\\t\\t\\t\\t\\t\\...</td>\n",
       "      <td>1.06 Cr</td>\n",
       "    </tr>\n",
       "    <tr>\n",
       "      <th>4</th>\n",
       "      <td>3</td>\n",
       "      <td>Y</td>\n",
       "      <td>Aminpur</td>\n",
       "      <td>Apartment</td>\n",
       "      <td>Builder</td>\n",
       "      <td>Y</td>\n",
       "      <td>***super area*1039 sqft****status**\\t\\t\\t\\t\\t\\...</td>\n",
       "      <td>46.2 Lac</td>\n",
       "    </tr>\n",
       "  </tbody>\n",
       "</table>\n",
       "</div>"
      ],
      "text/plain": [
       "  Bedrooms Paid User                    Locality      Property Type User Type  \\\n",
       "0        2         N                  Patancheru  Residential House     Owner   \n",
       "1        2         N         Ramanthapur, NH 2 2          Apartment     Owner   \n",
       "2        2         N                  Malkajgiri          Apartment     Owner   \n",
       "3        3         Y  Manikonda, Outer Ring Road          Apartment   Builder   \n",
       "4        3         Y                     Aminpur          Apartment   Builder   \n",
       "\n",
       "  Prime Location                                              Other     Price  \n",
       "0              Y  ***carpet area*2500 sqft****status*Ready to Mo...   1.10 Cr  \n",
       "1              Y  ***carpet area*1007 sqft****status*Ready to Mo...    50 Lac  \n",
       "2              Y  ***super area*1045 sqft****status*Ready to Mov...    49 Lac  \n",
       "3              Y  ***super area*1640 sqft****status**\\t\\t\\t\\t\\t\\...   1.06 Cr  \n",
       "4              Y  ***super area*1039 sqft****status**\\t\\t\\t\\t\\t\\...  46.2 Lac  "
      ]
     },
     "execution_count": 3,
     "metadata": {},
     "output_type": "execute_result"
    }
   ],
   "source": [
    "# peeking the dataset\n",
    "train_df.head()"
   ]
  },
  {
   "cell_type": "code",
   "execution_count": 4,
   "metadata": {},
   "outputs": [
    {
     "name": "stdout",
     "output_type": "stream",
     "text": [
      "<class 'pandas.core.frame.DataFrame'>\n",
      "RangeIndex: 10762 entries, 0 to 10761\n",
      "Data columns (total 8 columns):\n",
      " #   Column          Non-Null Count  Dtype \n",
      "---  ------          --------------  ----- \n",
      " 0   Bedrooms        10762 non-null  object\n",
      " 1   Paid User       10762 non-null  object\n",
      " 2   Locality        10762 non-null  object\n",
      " 3   Property Type   10762 non-null  object\n",
      " 4   User Type       10762 non-null  object\n",
      " 5   Prime Location  10762 non-null  object\n",
      " 6   Other           10762 non-null  object\n",
      " 7   Price           10762 non-null  object\n",
      "dtypes: object(8)\n",
      "memory usage: 672.8+ KB\n"
     ]
    }
   ],
   "source": [
    "train_df.info()"
   ]
  },
  {
   "cell_type": "code",
   "execution_count": 5,
   "metadata": {},
   "outputs": [
    {
     "data": {
      "text/plain": [
       "Bedrooms          0\n",
       "Paid User         0\n",
       "Locality          0\n",
       "Property Type     0\n",
       "User Type         0\n",
       "Prime Location    0\n",
       "Other             0\n",
       "Price             0\n",
       "dtype: int64"
      ]
     },
     "execution_count": 5,
     "metadata": {},
     "output_type": "execute_result"
    }
   ],
   "source": [
    "train_df.isnull().sum()"
   ]
  },
  {
   "cell_type": "code",
   "execution_count": 6,
   "metadata": {},
   "outputs": [
    {
     "data": {
      "text/plain": [
       "'***carpet area*1007\\xa0sqft****status*Ready to Move****floor*1 out of 4 floors***transaction*Resale***furnishing*Semi-Furnished***facing*East***car parking*1 Covered***bathroom*2***balcony*2***ownership*Freehold**'"
      ]
     },
     "execution_count": 6,
     "metadata": {},
     "output_type": "execute_result"
    }
   ],
   "source": [
    "train_df['Other'].iloc[1]"
   ]
  },
  {
   "cell_type": "code",
   "execution_count": 7,
   "metadata": {},
   "outputs": [],
   "source": [
    "# Define a function to extract values for each attribute\n",
    "def extract_property_info(df):\n",
    "    # Extract information from 'Other' column\n",
    "    df['carpet area'] = df['Other'].str.extract(r'\\*carpet area\\*([^*]+)\\*')\n",
    "    df['status'] = df['Other'].str.extract(r'\\*status\\*([^*]+)\\*')\n",
    "    df['transaction'] = df['Other'].str.extract(r'\\*transaction\\*([^*]+)\\*')\n",
    "    df['overlooking'] = df['Other'].str.extract(r'\\*overlooking\\*([^*]+)\\*')\n",
    "    df['facing'] = df['Other'].str.extract(r'\\*facing\\*([^*]+)\\*')\n",
    "    df['bathroom'] = df['Other'].str.extract(r'\\*bathroom\\*([^*]+)\\*')\n",
    "    df['balcony'] = df['Other'].str.extract(r'\\*balcony\\*([^*]+)\\*')\n",
    "    df['furnishing'] = df['Other'].str.extract(r'\\*furnishing\\*([^*]+)\\*')\n",
    "\n",
    "    # Drop the original 'Other' column\n",
    "    df.drop(columns=['Other'], inplace=True)\n",
    "\n",
    "    # Convert numeric columns to numeric type\n",
    "    numeric_columns = ['carpet area', 'bathroom', 'balcony']\n",
    "    df[numeric_columns] = df[numeric_columns].apply(pd.to_numeric, errors='coerce')\n",
    "\n",
    "    return df\n",
    "\n",
    "# Apply the function to train_df and test_df\n",
    "train_df = extract_property_info(train_df)\n",
    "test_df = extract_property_info(test_df)"
   ]
  },
  {
   "cell_type": "code",
   "execution_count": 8,
   "metadata": {},
   "outputs": [
    {
     "data": {
      "text/plain": [
       "Bedrooms              0\n",
       "Paid User             0\n",
       "Locality              0\n",
       "Property Type         0\n",
       "User Type             0\n",
       "Prime Location        0\n",
       "Price                 0\n",
       "carpet area       10762\n",
       "status             3560\n",
       "transaction           1\n",
       "overlooking        7731\n",
       "facing             6121\n",
       "bathroom            252\n",
       "balcony            5631\n",
       "furnishing          250\n",
       "dtype: int64"
      ]
     },
     "execution_count": 8,
     "metadata": {},
     "output_type": "execute_result"
    }
   ],
   "source": [
    "train_df.isnull().sum()"
   ]
  },
  {
   "cell_type": "code",
   "execution_count": 9,
   "metadata": {},
   "outputs": [],
   "source": [
    "train_df.drop(columns=['carpet area', 'overlooking', 'balcony', 'facing', 'status'], inplace=True)\n",
    "test_df.drop(columns=['carpet area', 'overlooking', 'balcony', 'facing', 'status'], inplace=True)"
   ]
  },
  {
   "cell_type": "code",
   "execution_count": 10,
   "metadata": {},
   "outputs": [
    {
     "name": "stdout",
     "output_type": "stream",
     "text": [
      "<class 'pandas.core.frame.DataFrame'>\n",
      "RangeIndex: 10762 entries, 0 to 10761\n",
      "Data columns (total 10 columns):\n",
      " #   Column          Non-Null Count  Dtype  \n",
      "---  ------          --------------  -----  \n",
      " 0   Bedrooms        10762 non-null  object \n",
      " 1   Paid User       10762 non-null  object \n",
      " 2   Locality        10762 non-null  object \n",
      " 3   Property Type   10762 non-null  object \n",
      " 4   User Type       10762 non-null  object \n",
      " 5   Prime Location  10762 non-null  object \n",
      " 6   Price           10762 non-null  object \n",
      " 7   transaction     10761 non-null  object \n",
      " 8   bathroom        10510 non-null  float64\n",
      " 9   furnishing      10512 non-null  object \n",
      "dtypes: float64(1), object(9)\n",
      "memory usage: 840.9+ KB\n"
     ]
    }
   ],
   "source": [
    "train_df.info()"
   ]
  },
  {
   "cell_type": "code",
   "execution_count": 11,
   "metadata": {},
   "outputs": [
    {
     "data": {
      "text/plain": [
       "<Axes: >"
      ]
     },
     "execution_count": 11,
     "metadata": {},
     "output_type": "execute_result"
    },
    {
     "data": {
      "image/png": "[encoded data removed]",
      "text/plain": [
       "<Figure size 640x480 with 1 Axes>"
      ]
     },
     "metadata": {},
     "output_type": "display_data"
    }
   ],
   "source": [
    "sns.heatmap(train_df.isnull(), yticklabels=False, cbar=False)"
   ]
  },
  {
   "cell_type": "code",
   "execution_count": 12,
   "metadata": {},
   "outputs": [
    {
     "data": {
      "text/plain": [
       "Bedrooms            0\n",
       "Paid User           0\n",
       "Locality            0\n",
       "Property Type       0\n",
       "User Type           0\n",
       "Prime Location      0\n",
       "Price               0\n",
       "transaction         1\n",
       "bathroom          252\n",
       "furnishing        250\n",
       "dtype: int64"
      ]
     },
     "execution_count": 12,
     "metadata": {},
     "output_type": "execute_result"
    }
   ],
   "source": [
    "train_df.isnull().sum()"
   ]
  },
  {
   "cell_type": "code",
   "execution_count": 13,
   "metadata": {},
   "outputs": [],
   "source": [
    "train_df['bathroom'] = train_df['bathroom'].fillna(train_df['bathroom'].mode()[0])\n",
    "test_df['bathroom'] = test_df['bathroom'].fillna(test_df['bathroom'].mode()[0])\n",
    "train_df['furnishing'] = train_df['furnishing'].fillna(train_df['furnishing'].mode()[0])\n",
    "test_df['furnishing'] = test_df['furnishing'].fillna(test_df['furnishing'].mode()[0])"
   ]
  },
  {
   "cell_type": "code",
   "execution_count": 14,
   "metadata": {},
   "outputs": [
    {
     "name": "stdout",
     "output_type": "stream",
     "text": [
      "<class 'pandas.core.frame.DataFrame'>\n",
      "RangeIndex: 10762 entries, 0 to 10761\n",
      "Data columns (total 10 columns):\n",
      " #   Column          Non-Null Count  Dtype  \n",
      "---  ------          --------------  -----  \n",
      " 0   Bedrooms        10762 non-null  object \n",
      " 1   Paid User       10762 non-null  object \n",
      " 2   Locality        10762 non-null  object \n",
      " 3   Property Type   10762 non-null  object \n",
      " 4   User Type       10762 non-null  object \n",
      " 5   Prime Location  10762 non-null  object \n",
      " 6   Price           10762 non-null  object \n",
      " 7   transaction     10761 non-null  object \n",
      " 8   bathroom        10762 non-null  float64\n",
      " 9   furnishing      10762 non-null  object \n",
      "dtypes: float64(1), object(9)\n",
      "memory usage: 840.9+ KB\n"
     ]
    }
   ],
   "source": [
    "train_df.info()"
   ]
  },
  {
   "cell_type": "code",
   "execution_count": 15,
   "metadata": {},
   "outputs": [
    {
     "name": "stdout",
     "output_type": "stream",
     "text": [
      "<class 'pandas.core.frame.DataFrame'>\n",
      "RangeIndex: 2691 entries, 0 to 2690\n",
      "Data columns (total 10 columns):\n",
      " #   Column          Non-Null Count  Dtype  \n",
      "---  ------          --------------  -----  \n",
      " 0   Bedrooms        2691 non-null   object \n",
      " 1   Paid User       2691 non-null   object \n",
      " 2   Locality        2691 non-null   object \n",
      " 3   Property Type   2691 non-null   object \n",
      " 4   User Type       2691 non-null   object \n",
      " 5   Prime Location  2691 non-null   object \n",
      " 6   Price           2691 non-null   object \n",
      " 7   transaction     2691 non-null   object \n",
      " 8   bathroom        2691 non-null   float64\n",
      " 9   furnishing      2691 non-null   object \n",
      "dtypes: float64(1), object(9)\n",
      "memory usage: 210.4+ KB\n"
     ]
    }
   ],
   "source": [
    "test_df.info()"
   ]
  },
  {
   "cell_type": "code",
   "execution_count": 16,
   "metadata": {},
   "outputs": [
    {
     "name": "stdout",
     "output_type": "stream",
     "text": [
      "<class 'pandas.core.frame.DataFrame'>\n",
      "RangeIndex: 10761 entries, 0 to 10760\n",
      "Data columns (total 10 columns):\n",
      " #   Column          Non-Null Count  Dtype  \n",
      "---  ------          --------------  -----  \n",
      " 0   Bedrooms        10761 non-null  object \n",
      " 1   Paid User       10761 non-null  object \n",
      " 2   Locality        10761 non-null  object \n",
      " 3   Property Type   10761 non-null  object \n",
      " 4   User Type       10761 non-null  object \n",
      " 5   Prime Location  10761 non-null  object \n",
      " 6   Price           10761 non-null  object \n",
      " 7   transaction     10761 non-null  object \n",
      " 8   bathroom        10761 non-null  float64\n",
      " 9   furnishing      10761 non-null  object \n",
      "dtypes: float64(1), object(9)\n",
      "memory usage: 840.8+ KB\n"
     ]
    }
   ],
   "source": [
    "train_df = train_df.dropna(subset=['transaction']).reset_index(drop=True)\n",
    "train_df.info()"
   ]
  },
  {
   "cell_type": "code",
   "execution_count": 17,
   "metadata": {},
   "outputs": [
    {
     "name": "stdout",
     "output_type": "stream",
     "text": [
      "<class 'pandas.core.frame.DataFrame'>\n",
      "RangeIndex: 2691 entries, 0 to 2690\n",
      "Data columns (total 10 columns):\n",
      " #   Column          Non-Null Count  Dtype  \n",
      "---  ------          --------------  -----  \n",
      " 0   Bedrooms        2691 non-null   object \n",
      " 1   Paid User       2691 non-null   object \n",
      " 2   Locality        2691 non-null   object \n",
      " 3   Property Type   2691 non-null   object \n",
      " 4   User Type       2691 non-null   object \n",
      " 5   Prime Location  2691 non-null   object \n",
      " 6   Price           2691 non-null   object \n",
      " 7   transaction     2691 non-null   object \n",
      " 8   bathroom        2691 non-null   float64\n",
      " 9   furnishing      2691 non-null   object \n",
      "dtypes: float64(1), object(9)\n",
      "memory usage: 210.4+ KB\n"
     ]
    }
   ],
   "source": [
    "test_df.info()"
   ]
  },
  {
   "cell_type": "markdown",
   "metadata": {},
   "source": [
    "### Handling Categorical features"
   ]
  },
  {
   "cell_type": "code",
   "execution_count": 18,
   "metadata": {},
   "outputs": [
    {
     "name": "stdout",
     "output_type": "stream",
     "text": [
      "Bedrooms            11\n",
      "Paid User            2\n",
      "Locality          1011\n",
      "Property Type        5\n",
      "User Type            3\n",
      "Prime Location       1\n",
      "Price              571\n",
      "transaction          2\n",
      "bathroom            10\n",
      "furnishing           3\n",
      "dtype: int64\n"
     ]
    }
   ],
   "source": [
    "unique_counts = train_df.nunique()\n",
    "print(unique_counts)"
   ]
  },
  {
   "cell_type": "code",
   "execution_count": 19,
   "metadata": {},
   "outputs": [],
   "source": [
    "train_df.drop(columns=['Prime Location'], inplace=True)\n",
    "test_df.drop(columns=['Prime Location'], inplace=True)"
   ]
  },
  {
   "cell_type": "code",
   "execution_count": 20,
   "metadata": {},
   "outputs": [],
   "source": [
    "categorical_columns = ['Bedrooms', 'Paid User', 'Property Type', 'User Type', 'transaction', 'bathroom', 'furnishing']"
   ]
  },
  {
   "cell_type": "code",
   "execution_count": 21,
   "metadata": {},
   "outputs": [
    {
     "data": {
      "text/plain": [
       "7"
      ]
     },
     "execution_count": 21,
     "metadata": {},
     "output_type": "execute_result"
    }
   ],
   "source": [
    "len(categorical_columns)"
   ]
  },
  {
   "cell_type": "code",
   "execution_count": 22,
   "metadata": {},
   "outputs": [
    {
     "name": "stdout",
     "output_type": "stream",
     "text": [
      "<class 'pandas.core.frame.DataFrame'>\n",
      "Index: 13452 entries, 0 to 2690\n",
      "Data columns (total 9 columns):\n",
      " #   Column         Non-Null Count  Dtype  \n",
      "---  ------         --------------  -----  \n",
      " 0   Bedrooms       13452 non-null  object \n",
      " 1   Paid User      13452 non-null  object \n",
      " 2   Locality       13452 non-null  object \n",
      " 3   Property Type  13452 non-null  object \n",
      " 4   User Type      13452 non-null  object \n",
      " 5   Price          13452 non-null  object \n",
      " 6   transaction    13452 non-null  object \n",
      " 7   bathroom       13452 non-null  float64\n",
      " 8   furnishing     13452 non-null  object \n",
      "dtypes: float64(1), object(8)\n",
      "memory usage: 1.0+ MB\n"
     ]
    }
   ],
   "source": [
    "# concatenate the test and train\n",
    "main_df = train_df.copy()\n",
    "final_df = pd.concat([train_df, test_df], axis=0)\n",
    "final_df.info()"
   ]
  },
  {
   "cell_type": "code",
   "execution_count": 23,
   "metadata": {},
   "outputs": [],
   "source": [
    "# function to encode categorical features easily\n",
    "def category_onehot_multcols(multcolumns):\n",
    "    df_final = final_df\n",
    "    i = 0\n",
    "    for fields in multcolumns:\n",
    "        print(fields)\n",
    "        df1 = pd.get_dummies(final_df[fields], drop_first=True)\n",
    "        \n",
    "        final_df.drop([fields], axis=1, inplace=True)\n",
    "        \n",
    "        if i == 0:\n",
    "            df_final = df1.copy()\n",
    "        else:\n",
    "            df_final = pd.concat([df_final, df1], axis=1)\n",
    "            \n",
    "        i = i + 1\n",
    "        \n",
    "    df_final = pd.concat([final_df, df_final], axis=1)\n",
    "    return df_final"
   ]
  },
  {
   "cell_type": "code",
   "execution_count": 24,
   "metadata": {},
   "outputs": [
    {
     "name": "stdout",
     "output_type": "stream",
     "text": [
      "Bedrooms\n",
      "Paid User\n",
      "Property Type\n",
      "User Type\n",
      "transaction\n",
      "bathroom\n",
      "furnishing\n"
     ]
    }
   ],
   "source": [
    "final_df = category_onehot_multcols(categorical_columns)"
   ]
  },
  {
   "cell_type": "code",
   "execution_count": 25,
   "metadata": {},
   "outputs": [
    {
     "data": {
      "text/html": [
       "<div>\n",
       "<style scoped>\n",
       "    .dataframe tbody tr th:only-of-type {\n",
       "        vertical-align: middle;\n",
       "    }\n",
       "\n",
       "    .dataframe tbody tr th {\n",
       "        vertical-align: top;\n",
       "    }\n",
       "\n",
       "    .dataframe thead th {\n",
       "        text-align: right;\n",
       "    }\n",
       "</style>\n",
       "<table border=\"1\" class=\"dataframe\">\n",
       "  <thead>\n",
       "    <tr style=\"text-align: right;\">\n",
       "      <th></th>\n",
       "      <th>Locality</th>\n",
       "      <th>Price</th>\n",
       "      <th>10</th>\n",
       "      <th>2</th>\n",
       "      <th>3</th>\n",
       "      <th>4</th>\n",
       "      <th>5</th>\n",
       "      <th>6</th>\n",
       "      <th>7</th>\n",
       "      <th>8</th>\n",
       "      <th>...</th>\n",
       "      <th>3.0</th>\n",
       "      <th>4.0</th>\n",
       "      <th>5.0</th>\n",
       "      <th>6.0</th>\n",
       "      <th>7.0</th>\n",
       "      <th>8.0</th>\n",
       "      <th>9.0</th>\n",
       "      <th>10.0</th>\n",
       "      <th>Semi-Furnished</th>\n",
       "      <th>Unfurnished</th>\n",
       "    </tr>\n",
       "  </thead>\n",
       "  <tbody>\n",
       "    <tr>\n",
       "      <th>0</th>\n",
       "      <td>Patancheru</td>\n",
       "      <td>1.10 Cr</td>\n",
       "      <td>False</td>\n",
       "      <td>True</td>\n",
       "      <td>False</td>\n",
       "      <td>False</td>\n",
       "      <td>False</td>\n",
       "      <td>False</td>\n",
       "      <td>False</td>\n",
       "      <td>False</td>\n",
       "      <td>...</td>\n",
       "      <td>False</td>\n",
       "      <td>False</td>\n",
       "      <td>False</td>\n",
       "      <td>False</td>\n",
       "      <td>False</td>\n",
       "      <td>False</td>\n",
       "      <td>False</td>\n",
       "      <td>False</td>\n",
       "      <td>True</td>\n",
       "      <td>False</td>\n",
       "    </tr>\n",
       "    <tr>\n",
       "      <th>1</th>\n",
       "      <td>Ramanthapur, NH 2 2</td>\n",
       "      <td>50 Lac</td>\n",
       "      <td>False</td>\n",
       "      <td>True</td>\n",
       "      <td>False</td>\n",
       "      <td>False</td>\n",
       "      <td>False</td>\n",
       "      <td>False</td>\n",
       "      <td>False</td>\n",
       "      <td>False</td>\n",
       "      <td>...</td>\n",
       "      <td>False</td>\n",
       "      <td>False</td>\n",
       "      <td>False</td>\n",
       "      <td>False</td>\n",
       "      <td>False</td>\n",
       "      <td>False</td>\n",
       "      <td>False</td>\n",
       "      <td>False</td>\n",
       "      <td>True</td>\n",
       "      <td>False</td>\n",
       "    </tr>\n",
       "    <tr>\n",
       "      <th>2</th>\n",
       "      <td>Malkajgiri</td>\n",
       "      <td>49 Lac</td>\n",
       "      <td>False</td>\n",
       "      <td>True</td>\n",
       "      <td>False</td>\n",
       "      <td>False</td>\n",
       "      <td>False</td>\n",
       "      <td>False</td>\n",
       "      <td>False</td>\n",
       "      <td>False</td>\n",
       "      <td>...</td>\n",
       "      <td>False</td>\n",
       "      <td>False</td>\n",
       "      <td>False</td>\n",
       "      <td>False</td>\n",
       "      <td>False</td>\n",
       "      <td>False</td>\n",
       "      <td>False</td>\n",
       "      <td>False</td>\n",
       "      <td>False</td>\n",
       "      <td>True</td>\n",
       "    </tr>\n",
       "    <tr>\n",
       "      <th>3</th>\n",
       "      <td>Manikonda, Outer Ring Road</td>\n",
       "      <td>1.06 Cr</td>\n",
       "      <td>False</td>\n",
       "      <td>False</td>\n",
       "      <td>True</td>\n",
       "      <td>False</td>\n",
       "      <td>False</td>\n",
       "      <td>False</td>\n",
       "      <td>False</td>\n",
       "      <td>False</td>\n",
       "      <td>...</td>\n",
       "      <td>True</td>\n",
       "      <td>False</td>\n",
       "      <td>False</td>\n",
       "      <td>False</td>\n",
       "      <td>False</td>\n",
       "      <td>False</td>\n",
       "      <td>False</td>\n",
       "      <td>False</td>\n",
       "      <td>False</td>\n",
       "      <td>True</td>\n",
       "    </tr>\n",
       "    <tr>\n",
       "      <th>4</th>\n",
       "      <td>Aminpur</td>\n",
       "      <td>46.2 Lac</td>\n",
       "      <td>False</td>\n",
       "      <td>False</td>\n",
       "      <td>True</td>\n",
       "      <td>False</td>\n",
       "      <td>False</td>\n",
       "      <td>False</td>\n",
       "      <td>False</td>\n",
       "      <td>False</td>\n",
       "      <td>...</td>\n",
       "      <td>False</td>\n",
       "      <td>False</td>\n",
       "      <td>False</td>\n",
       "      <td>False</td>\n",
       "      <td>False</td>\n",
       "      <td>False</td>\n",
       "      <td>False</td>\n",
       "      <td>False</td>\n",
       "      <td>False</td>\n",
       "      <td>True</td>\n",
       "    </tr>\n",
       "  </tbody>\n",
       "</table>\n",
       "<p>5 rows × 31 columns</p>\n",
       "</div>"
      ],
      "text/plain": [
       "                     Locality     Price     10      2      3      4      5  \\\n",
       "0                  Patancheru   1.10 Cr  False   True  False  False  False   \n",
       "1         Ramanthapur, NH 2 2    50 Lac  False   True  False  False  False   \n",
       "2                  Malkajgiri    49 Lac  False   True  False  False  False   \n",
       "3  Manikonda, Outer Ring Road   1.06 Cr  False  False   True  False  False   \n",
       "4                     Aminpur  46.2 Lac  False  False   True  False  False   \n",
       "\n",
       "       6      7      8  ...    3.0    4.0    5.0    6.0    7.0    8.0    9.0  \\\n",
       "0  False  False  False  ...  False  False  False  False  False  False  False   \n",
       "1  False  False  False  ...  False  False  False  False  False  False  False   \n",
       "2  False  False  False  ...  False  False  False  False  False  False  False   \n",
       "3  False  False  False  ...   True  False  False  False  False  False  False   \n",
       "4  False  False  False  ...  False  False  False  False  False  False  False   \n",
       "\n",
       "    10.0  Semi-Furnished  Unfurnished  \n",
       "0  False            True        False  \n",
       "1  False            True        False  \n",
       "2  False           False         True  \n",
       "3  False           False         True  \n",
       "4  False           False         True  \n",
       "\n",
       "[5 rows x 31 columns]"
      ]
     },
     "execution_count": 25,
     "metadata": {},
     "output_type": "execute_result"
    }
   ],
   "source": [
    "final_df.head()"
   ]
  },
  {
   "cell_type": "code",
   "execution_count": 26,
   "metadata": {},
   "outputs": [
    {
     "data": {
      "text/plain": [
       "(13452, 31)"
      ]
     },
     "execution_count": 26,
     "metadata": {},
     "output_type": "execute_result"
    }
   ],
   "source": [
    "final_df.shape"
   ]
  },
  {
   "cell_type": "code",
   "execution_count": 27,
   "metadata": {},
   "outputs": [
    {
     "data": {
      "text/html": [
       "<div>\n",
       "<style scoped>\n",
       "    .dataframe tbody tr th:only-of-type {\n",
       "        vertical-align: middle;\n",
       "    }\n",
       "\n",
       "    .dataframe tbody tr th {\n",
       "        vertical-align: top;\n",
       "    }\n",
       "\n",
       "    .dataframe thead th {\n",
       "        text-align: right;\n",
       "    }\n",
       "</style>\n",
       "<table border=\"1\" class=\"dataframe\">\n",
       "  <thead>\n",
       "    <tr style=\"text-align: right;\">\n",
       "      <th></th>\n",
       "      <th>Locality</th>\n",
       "      <th>Price</th>\n",
       "      <th>10</th>\n",
       "      <th>2</th>\n",
       "      <th>3</th>\n",
       "      <th>4</th>\n",
       "      <th>5</th>\n",
       "      <th>6</th>\n",
       "      <th>7</th>\n",
       "      <th>8</th>\n",
       "      <th>...</th>\n",
       "      <th>3.0</th>\n",
       "      <th>4.0</th>\n",
       "      <th>5.0</th>\n",
       "      <th>6.0</th>\n",
       "      <th>7.0</th>\n",
       "      <th>8.0</th>\n",
       "      <th>9.0</th>\n",
       "      <th>10.0</th>\n",
       "      <th>Semi-Furnished</th>\n",
       "      <th>Unfurnished</th>\n",
       "    </tr>\n",
       "  </thead>\n",
       "  <tbody>\n",
       "    <tr>\n",
       "      <th>0</th>\n",
       "      <td>Patancheru</td>\n",
       "      <td>1.10 Cr</td>\n",
       "      <td>False</td>\n",
       "      <td>True</td>\n",
       "      <td>False</td>\n",
       "      <td>False</td>\n",
       "      <td>False</td>\n",
       "      <td>False</td>\n",
       "      <td>False</td>\n",
       "      <td>False</td>\n",
       "      <td>...</td>\n",
       "      <td>False</td>\n",
       "      <td>False</td>\n",
       "      <td>False</td>\n",
       "      <td>False</td>\n",
       "      <td>False</td>\n",
       "      <td>False</td>\n",
       "      <td>False</td>\n",
       "      <td>False</td>\n",
       "      <td>True</td>\n",
       "      <td>False</td>\n",
       "    </tr>\n",
       "    <tr>\n",
       "      <th>1</th>\n",
       "      <td>Ramanthapur, NH 2 2</td>\n",
       "      <td>50 Lac</td>\n",
       "      <td>False</td>\n",
       "      <td>True</td>\n",
       "      <td>False</td>\n",
       "      <td>False</td>\n",
       "      <td>False</td>\n",
       "      <td>False</td>\n",
       "      <td>False</td>\n",
       "      <td>False</td>\n",
       "      <td>...</td>\n",
       "      <td>False</td>\n",
       "      <td>False</td>\n",
       "      <td>False</td>\n",
       "      <td>False</td>\n",
       "      <td>False</td>\n",
       "      <td>False</td>\n",
       "      <td>False</td>\n",
       "      <td>False</td>\n",
       "      <td>True</td>\n",
       "      <td>False</td>\n",
       "    </tr>\n",
       "    <tr>\n",
       "      <th>2</th>\n",
       "      <td>Malkajgiri</td>\n",
       "      <td>49 Lac</td>\n",
       "      <td>False</td>\n",
       "      <td>True</td>\n",
       "      <td>False</td>\n",
       "      <td>False</td>\n",
       "      <td>False</td>\n",
       "      <td>False</td>\n",
       "      <td>False</td>\n",
       "      <td>False</td>\n",
       "      <td>...</td>\n",
       "      <td>False</td>\n",
       "      <td>False</td>\n",
       "      <td>False</td>\n",
       "      <td>False</td>\n",
       "      <td>False</td>\n",
       "      <td>False</td>\n",
       "      <td>False</td>\n",
       "      <td>False</td>\n",
       "      <td>False</td>\n",
       "      <td>True</td>\n",
       "    </tr>\n",
       "    <tr>\n",
       "      <th>3</th>\n",
       "      <td>Manikonda, Outer Ring Road</td>\n",
       "      <td>1.06 Cr</td>\n",
       "      <td>False</td>\n",
       "      <td>False</td>\n",
       "      <td>True</td>\n",
       "      <td>False</td>\n",
       "      <td>False</td>\n",
       "      <td>False</td>\n",
       "      <td>False</td>\n",
       "      <td>False</td>\n",
       "      <td>...</td>\n",
       "      <td>True</td>\n",
       "      <td>False</td>\n",
       "      <td>False</td>\n",
       "      <td>False</td>\n",
       "      <td>False</td>\n",
       "      <td>False</td>\n",
       "      <td>False</td>\n",
       "      <td>False</td>\n",
       "      <td>False</td>\n",
       "      <td>True</td>\n",
       "    </tr>\n",
       "    <tr>\n",
       "      <th>4</th>\n",
       "      <td>Aminpur</td>\n",
       "      <td>46.2 Lac</td>\n",
       "      <td>False</td>\n",
       "      <td>False</td>\n",
       "      <td>True</td>\n",
       "      <td>False</td>\n",
       "      <td>False</td>\n",
       "      <td>False</td>\n",
       "      <td>False</td>\n",
       "      <td>False</td>\n",
       "      <td>...</td>\n",
       "      <td>False</td>\n",
       "      <td>False</td>\n",
       "      <td>False</td>\n",
       "      <td>False</td>\n",
       "      <td>False</td>\n",
       "      <td>False</td>\n",
       "      <td>False</td>\n",
       "      <td>False</td>\n",
       "      <td>False</td>\n",
       "      <td>True</td>\n",
       "    </tr>\n",
       "    <tr>\n",
       "      <th>...</th>\n",
       "      <td>...</td>\n",
       "      <td>...</td>\n",
       "      <td>...</td>\n",
       "      <td>...</td>\n",
       "      <td>...</td>\n",
       "      <td>...</td>\n",
       "      <td>...</td>\n",
       "      <td>...</td>\n",
       "      <td>...</td>\n",
       "      <td>...</td>\n",
       "      <td>...</td>\n",
       "      <td>...</td>\n",
       "      <td>...</td>\n",
       "      <td>...</td>\n",
       "      <td>...</td>\n",
       "      <td>...</td>\n",
       "      <td>...</td>\n",
       "      <td>...</td>\n",
       "      <td>...</td>\n",
       "      <td>...</td>\n",
       "      <td>...</td>\n",
       "    </tr>\n",
       "    <tr>\n",
       "      <th>2686</th>\n",
       "      <td>Miyapur, NH  9</td>\n",
       "      <td>36 Lac</td>\n",
       "      <td>False</td>\n",
       "      <td>True</td>\n",
       "      <td>False</td>\n",
       "      <td>False</td>\n",
       "      <td>False</td>\n",
       "      <td>False</td>\n",
       "      <td>False</td>\n",
       "      <td>False</td>\n",
       "      <td>...</td>\n",
       "      <td>False</td>\n",
       "      <td>False</td>\n",
       "      <td>False</td>\n",
       "      <td>False</td>\n",
       "      <td>False</td>\n",
       "      <td>False</td>\n",
       "      <td>False</td>\n",
       "      <td>False</td>\n",
       "      <td>False</td>\n",
       "      <td>True</td>\n",
       "    </tr>\n",
       "    <tr>\n",
       "      <th>2687</th>\n",
       "      <td>Vishnupuri Colony, Secunderabad</td>\n",
       "      <td>95 Lac</td>\n",
       "      <td>False</td>\n",
       "      <td>False</td>\n",
       "      <td>False</td>\n",
       "      <td>True</td>\n",
       "      <td>False</td>\n",
       "      <td>False</td>\n",
       "      <td>False</td>\n",
       "      <td>False</td>\n",
       "      <td>...</td>\n",
       "      <td>False</td>\n",
       "      <td>True</td>\n",
       "      <td>False</td>\n",
       "      <td>False</td>\n",
       "      <td>False</td>\n",
       "      <td>False</td>\n",
       "      <td>False</td>\n",
       "      <td>False</td>\n",
       "      <td>True</td>\n",
       "      <td>False</td>\n",
       "    </tr>\n",
       "    <tr>\n",
       "      <th>2688</th>\n",
       "      <td>P &amp; T Colony-Dilsukh Nagar, NH  9</td>\n",
       "      <td>28 Lac</td>\n",
       "      <td>False</td>\n",
       "      <td>False</td>\n",
       "      <td>False</td>\n",
       "      <td>False</td>\n",
       "      <td>False</td>\n",
       "      <td>False</td>\n",
       "      <td>False</td>\n",
       "      <td>False</td>\n",
       "      <td>...</td>\n",
       "      <td>False</td>\n",
       "      <td>False</td>\n",
       "      <td>False</td>\n",
       "      <td>False</td>\n",
       "      <td>False</td>\n",
       "      <td>False</td>\n",
       "      <td>False</td>\n",
       "      <td>False</td>\n",
       "      <td>True</td>\n",
       "      <td>False</td>\n",
       "    </tr>\n",
       "    <tr>\n",
       "      <th>2689</th>\n",
       "      <td>Balaji Nagar Miyapur</td>\n",
       "      <td>55 Lac</td>\n",
       "      <td>False</td>\n",
       "      <td>True</td>\n",
       "      <td>False</td>\n",
       "      <td>False</td>\n",
       "      <td>False</td>\n",
       "      <td>False</td>\n",
       "      <td>False</td>\n",
       "      <td>False</td>\n",
       "      <td>...</td>\n",
       "      <td>False</td>\n",
       "      <td>False</td>\n",
       "      <td>False</td>\n",
       "      <td>False</td>\n",
       "      <td>False</td>\n",
       "      <td>False</td>\n",
       "      <td>False</td>\n",
       "      <td>False</td>\n",
       "      <td>True</td>\n",
       "      <td>False</td>\n",
       "    </tr>\n",
       "    <tr>\n",
       "      <th>2690</th>\n",
       "      <td>Kondapur</td>\n",
       "      <td>95 Lac</td>\n",
       "      <td>False</td>\n",
       "      <td>True</td>\n",
       "      <td>False</td>\n",
       "      <td>False</td>\n",
       "      <td>False</td>\n",
       "      <td>False</td>\n",
       "      <td>False</td>\n",
       "      <td>False</td>\n",
       "      <td>...</td>\n",
       "      <td>False</td>\n",
       "      <td>False</td>\n",
       "      <td>False</td>\n",
       "      <td>False</td>\n",
       "      <td>False</td>\n",
       "      <td>False</td>\n",
       "      <td>False</td>\n",
       "      <td>False</td>\n",
       "      <td>False</td>\n",
       "      <td>True</td>\n",
       "    </tr>\n",
       "  </tbody>\n",
       "</table>\n",
       "<p>13452 rows × 31 columns</p>\n",
       "</div>"
      ],
      "text/plain": [
       "                               Locality     Price     10      2      3      4  \\\n",
       "0                            Patancheru   1.10 Cr  False   True  False  False   \n",
       "1                   Ramanthapur, NH 2 2    50 Lac  False   True  False  False   \n",
       "2                            Malkajgiri    49 Lac  False   True  False  False   \n",
       "3            Manikonda, Outer Ring Road   1.06 Cr  False  False   True  False   \n",
       "4                               Aminpur  46.2 Lac  False  False   True  False   \n",
       "...                                 ...       ...    ...    ...    ...    ...   \n",
       "2686                     Miyapur, NH  9    36 Lac  False   True  False  False   \n",
       "2687    Vishnupuri Colony, Secunderabad    95 Lac  False  False  False   True   \n",
       "2688  P & T Colony-Dilsukh Nagar, NH  9    28 Lac  False  False  False  False   \n",
       "2689               Balaji Nagar Miyapur    55 Lac  False   True  False  False   \n",
       "2690                           Kondapur    95 Lac  False   True  False  False   \n",
       "\n",
       "          5      6      7      8  ...    3.0    4.0    5.0    6.0    7.0  \\\n",
       "0     False  False  False  False  ...  False  False  False  False  False   \n",
       "1     False  False  False  False  ...  False  False  False  False  False   \n",
       "2     False  False  False  False  ...  False  False  False  False  False   \n",
       "3     False  False  False  False  ...   True  False  False  False  False   \n",
       "4     False  False  False  False  ...  False  False  False  False  False   \n",
       "...     ...    ...    ...    ...  ...    ...    ...    ...    ...    ...   \n",
       "2686  False  False  False  False  ...  False  False  False  False  False   \n",
       "2687  False  False  False  False  ...  False   True  False  False  False   \n",
       "2688  False  False  False  False  ...  False  False  False  False  False   \n",
       "2689  False  False  False  False  ...  False  False  False  False  False   \n",
       "2690  False  False  False  False  ...  False  False  False  False  False   \n",
       "\n",
       "        8.0    9.0   10.0  Semi-Furnished  Unfurnished  \n",
       "0     False  False  False            True        False  \n",
       "1     False  False  False            True        False  \n",
       "2     False  False  False           False         True  \n",
       "3     False  False  False           False         True  \n",
       "4     False  False  False           False         True  \n",
       "...     ...    ...    ...             ...          ...  \n",
       "2686  False  False  False           False         True  \n",
       "2687  False  False  False            True        False  \n",
       "2688  False  False  False            True        False  \n",
       "2689  False  False  False            True        False  \n",
       "2690  False  False  False           False         True  \n",
       "\n",
       "[13452 rows x 31 columns]"
      ]
     },
     "execution_count": 27,
     "metadata": {},
     "output_type": "execute_result"
    }
   ],
   "source": [
    "final_df = final_df.loc[:, ~final_df.columns.duplicated()]\n",
    "final_df"
   ]
  },
  {
   "cell_type": "code",
   "execution_count": 28,
   "metadata": {},
   "outputs": [],
   "source": [
    "df_train = final_df.iloc[:10762, :]\n",
    "df_test = final_df.iloc[10762:, :]"
   ]
  },
  {
   "cell_type": "code",
   "execution_count": 29,
   "metadata": {},
   "outputs": [
    {
     "name": "stderr",
     "output_type": "stream",
     "text": [
      "C:\\Users\\HP\\AppData\\Local\\Temp\\ipykernel_8496\\3199911517.py:2: SettingWithCopyWarning: \n",
      "A value is trying to be set on a copy of a slice from a DataFrame\n",
      "\n",
      "See the caveats in the documentation: https://pandas.pydata.org/pandas-docs/stable/user_guide/indexing.html#returning-a-view-versus-a-copy\n",
      "  df_test.drop(columns=['Price'], inplace=True)\n"
     ]
    }
   ],
   "source": [
    "df_test_actual = df_test['Price']\n",
    "df_test.drop(columns=['Price'], inplace=True)"
   ]
  },
  {
   "cell_type": "code",
   "execution_count": 30,
   "metadata": {},
   "outputs": [
    {
     "name": "stdout",
     "output_type": "stream",
     "text": [
      "<class 'pandas.core.frame.DataFrame'>\n",
      "Index: 10762 entries, 0 to 0\n",
      "Data columns (total 31 columns):\n",
      " #   Column                   Non-Null Count  Dtype \n",
      "---  ------                   --------------  ----- \n",
      " 0   Locality                 10762 non-null  object\n",
      " 1   Price                    10762 non-null  object\n",
      " 2   10                       10762 non-null  bool  \n",
      " 3   2                        10762 non-null  bool  \n",
      " 4   3                        10762 non-null  bool  \n",
      " 5   4                        10762 non-null  bool  \n",
      " 6   5                        10762 non-null  bool  \n",
      " 7   6                        10762 non-null  bool  \n",
      " 8   7                        10762 non-null  bool  \n",
      " 9   8                        10762 non-null  bool  \n",
      " 10  9                        10762 non-null  bool  \n",
      " 11  > 10                     10762 non-null  bool  \n",
      " 12  Y                        10762 non-null  bool  \n",
      " 13  Builder Floor Apartment  10762 non-null  bool  \n",
      " 14  Penthouse                10762 non-null  bool  \n",
      " 15  Residential House        10762 non-null  bool  \n",
      " 16  Villa                    10762 non-null  bool  \n",
      " 17  Builder                  10762 non-null  bool  \n",
      " 18  Owner                    10762 non-null  bool  \n",
      " 19  Resale                   10762 non-null  bool  \n",
      " 20  2.0                      10762 non-null  bool  \n",
      " 21  3.0                      10762 non-null  bool  \n",
      " 22  4.0                      10762 non-null  bool  \n",
      " 23  5.0                      10762 non-null  bool  \n",
      " 24  6.0                      10762 non-null  bool  \n",
      " 25  7.0                      10762 non-null  bool  \n",
      " 26  8.0                      10762 non-null  bool  \n",
      " 27  9.0                      10762 non-null  bool  \n",
      " 28  10.0                     10762 non-null  bool  \n",
      " 29  Semi-Furnished           10762 non-null  bool  \n",
      " 30  Unfurnished              10762 non-null  bool  \n",
      "dtypes: bool(29), object(2)\n",
      "memory usage: 557.0+ KB\n"
     ]
    }
   ],
   "source": [
    "df_train.info()"
   ]
  },
  {
   "cell_type": "code",
   "execution_count": 31,
   "metadata": {},
   "outputs": [
    {
     "name": "stdout",
     "output_type": "stream",
     "text": [
      "<class 'pandas.core.frame.DataFrame'>\n",
      "Index: 10762 entries, 0 to 0\n",
      "Data columns (total 31 columns):\n",
      " #   Column                   Non-Null Count  Dtype \n",
      "---  ------                   --------------  ----- \n",
      " 0   Locality                 10762 non-null  object\n",
      " 1   Price                    10762 non-null  object\n",
      " 2   10                       10762 non-null  bool  \n",
      " 3   2                        10762 non-null  bool  \n",
      " 4   3                        10762 non-null  bool  \n",
      " 5   4                        10762 non-null  bool  \n",
      " 6   5                        10762 non-null  bool  \n",
      " 7   6                        10762 non-null  bool  \n",
      " 8   7                        10762 non-null  bool  \n",
      " 9   8                        10762 non-null  bool  \n",
      " 10  9                        10762 non-null  bool  \n",
      " 11  > 10                     10762 non-null  bool  \n",
      " 12  Y                        10762 non-null  bool  \n",
      " 13  Builder Floor Apartment  10762 non-null  bool  \n",
      " 14  Penthouse                10762 non-null  bool  \n",
      " 15  Residential House        10762 non-null  bool  \n",
      " 16  Villa                    10762 non-null  bool  \n",
      " 17  Builder                  10762 non-null  bool  \n",
      " 18  Owner                    10762 non-null  bool  \n",
      " 19  Resale                   10762 non-null  bool  \n",
      " 20  2.0                      10762 non-null  bool  \n",
      " 21  3.0                      10762 non-null  bool  \n",
      " 22  4.0                      10762 non-null  bool  \n",
      " 23  5.0                      10762 non-null  bool  \n",
      " 24  6.0                      10762 non-null  bool  \n",
      " 25  7.0                      10762 non-null  bool  \n",
      " 26  8.0                      10762 non-null  bool  \n",
      " 27  9.0                      10762 non-null  bool  \n",
      " 28  10.0                     10762 non-null  bool  \n",
      " 29  Semi-Furnished           10762 non-null  bool  \n",
      " 30  Unfurnished              10762 non-null  bool  \n",
      "dtypes: bool(29), object(2)\n",
      "memory usage: 557.0+ KB\n"
     ]
    }
   ],
   "source": [
    "df_train.info()"
   ]
  },
  {
   "cell_type": "code",
   "execution_count": 32,
   "metadata": {},
   "outputs": [
    {
     "name": "stdout",
     "output_type": "stream",
     "text": [
      "                     Locality       Price     10      2      3      4      5  \\\n",
      "0                  Patancheru  11000000.0  False   True  False  False  False   \n",
      "1         Ramanthapur, NH 2 2   5000000.0  False   True  False  False  False   \n",
      "2                  Malkajgiri   4900000.0  False   True  False  False  False   \n",
      "3  Manikonda, Outer Ring Road  10600000.0  False  False   True  False  False   \n",
      "4                     Aminpur   4620000.0  False  False   True  False  False   \n",
      "\n",
      "       6      7      8  ...    3.0    4.0    5.0    6.0    7.0    8.0    9.0  \\\n",
      "0  False  False  False  ...  False  False  False  False  False  False  False   \n",
      "1  False  False  False  ...  False  False  False  False  False  False  False   \n",
      "2  False  False  False  ...  False  False  False  False  False  False  False   \n",
      "3  False  False  False  ...   True  False  False  False  False  False  False   \n",
      "4  False  False  False  ...  False  False  False  False  False  False  False   \n",
      "\n",
      "    10.0  Semi-Furnished  Unfurnished  \n",
      "0  False            True        False  \n",
      "1  False            True        False  \n",
      "2  False           False         True  \n",
      "3  False           False         True  \n",
      "4  False           False         True  \n",
      "\n",
      "[5 rows x 31 columns]\n"
     ]
    },
    {
     "name": "stderr",
     "output_type": "stream",
     "text": [
      "C:\\Users\\HP\\AppData\\Local\\Temp\\ipykernel_8496\\4116337407.py:21: SettingWithCopyWarning: \n",
      "A value is trying to be set on a copy of a slice from a DataFrame.\n",
      "Try using .loc[row_indexer,col_indexer] = value instead\n",
      "\n",
      "See the caveats in the documentation: https://pandas.pydata.org/pandas-docs/stable/user_guide/indexing.html#returning-a-view-versus-a-copy\n",
      "  df_train['Price'] = df_train['Price'].apply(lambda x: convert_price_to_numeric(x, mean_price_train))\n"
     ]
    }
   ],
   "source": [
    "import pandas as pd\n",
    "import numpy as np\n",
    "\n",
    "# Assuming df_train and df_test are your DataFrames\n",
    "# Define a function to convert 'cr' and 'Lac' values to numeric\n",
    "def convert_price_to_numeric(price_str, mean_price):\n",
    "    if 'Cr' in price_str:\n",
    "        return float(price_str.replace(' Cr', '')) * 1e7  # Multiply by 10 million to convert to crores\n",
    "    elif 'Lac' in price_str:\n",
    "        return float(price_str.replace(' Lac', '')) * 1e5  # Multiply by 100,000 to convert to lakhs\n",
    "    elif price_str == 'Call for Price':\n",
    "        return mean_price  # Replace 'Call for Price' with the mean of the 'Price' column\n",
    "    else:\n",
    "        return float(price_str)\n",
    "\n",
    "# Calculate the mean of the 'Price' column excluding 'Call for Price' and non-numeric values\n",
    "numeric_prices_train = pd.to_numeric(df_train['Price'].replace('Call for Price', np.nan), errors='coerce')\n",
    "mean_price_train = numeric_prices_train.mean()\n",
    "\n",
    "# Apply the function to the 'Price' column\n",
    "df_train['Price'] = df_train['Price'].apply(lambda x: convert_price_to_numeric(x, mean_price_train))\n",
    "\n",
    "# Display the updated DataFrames\n",
    "print(df_train.head())"
   ]
  },
  {
   "cell_type": "code",
   "execution_count": 33,
   "metadata": {},
   "outputs": [
    {
     "name": "stdout",
     "output_type": "stream",
     "text": [
      "<class 'pandas.core.frame.DataFrame'>\n",
      "Index: 10762 entries, 0 to 0\n",
      "Data columns (total 31 columns):\n",
      " #   Column                   Non-Null Count  Dtype  \n",
      "---  ------                   --------------  -----  \n",
      " 0   Locality                 10762 non-null  object \n",
      " 1   Price                    10490 non-null  float64\n",
      " 2   10                       10762 non-null  bool   \n",
      " 3   2                        10762 non-null  bool   \n",
      " 4   3                        10762 non-null  bool   \n",
      " 5   4                        10762 non-null  bool   \n",
      " 6   5                        10762 non-null  bool   \n",
      " 7   6                        10762 non-null  bool   \n",
      " 8   7                        10762 non-null  bool   \n",
      " 9   8                        10762 non-null  bool   \n",
      " 10  9                        10762 non-null  bool   \n",
      " 11  > 10                     10762 non-null  bool   \n",
      " 12  Y                        10762 non-null  bool   \n",
      " 13  Builder Floor Apartment  10762 non-null  bool   \n",
      " 14  Penthouse                10762 non-null  bool   \n",
      " 15  Residential House        10762 non-null  bool   \n",
      " 16  Villa                    10762 non-null  bool   \n",
      " 17  Builder                  10762 non-null  bool   \n",
      " 18  Owner                    10762 non-null  bool   \n",
      " 19  Resale                   10762 non-null  bool   \n",
      " 20  2.0                      10762 non-null  bool   \n",
      " 21  3.0                      10762 non-null  bool   \n",
      " 22  4.0                      10762 non-null  bool   \n",
      " 23  5.0                      10762 non-null  bool   \n",
      " 24  6.0                      10762 non-null  bool   \n",
      " 25  7.0                      10762 non-null  bool   \n",
      " 26  8.0                      10762 non-null  bool   \n",
      " 27  9.0                      10762 non-null  bool   \n",
      " 28  10.0                     10762 non-null  bool   \n",
      " 29  Semi-Furnished           10762 non-null  bool   \n",
      " 30  Unfurnished              10762 non-null  bool   \n",
      "dtypes: bool(29), float64(1), object(1)\n",
      "memory usage: 557.0+ KB\n"
     ]
    }
   ],
   "source": [
    "df_train.info()"
   ]
  },
  {
   "cell_type": "code",
   "execution_count": 34,
   "metadata": {},
   "outputs": [],
   "source": [
    "X_train = df_train.drop(columns=['Price'])\n",
    "Y_train = df_train['Price']"
   ]
  },
  {
   "cell_type": "code",
   "execution_count": 35,
   "metadata": {},
   "outputs": [
    {
     "data": {
      "text/plain": [
       "272"
      ]
     },
     "execution_count": 35,
     "metadata": {},
     "output_type": "execute_result"
    }
   ],
   "source": [
    "Y_train.isnull().sum()"
   ]
  },
  {
   "cell_type": "code",
   "execution_count": 36,
   "metadata": {},
   "outputs": [
    {
     "name": "stdout",
     "output_type": "stream",
     "text": [
      "14900000.0\n",
      "100000.0\n"
     ]
    }
   ],
   "source": [
    "print(df_train['Price'].max())\n",
    "print(df_train['Price'].min())"
   ]
  },
  {
   "cell_type": "code",
   "execution_count": 37,
   "metadata": {},
   "outputs": [
    {
     "name": "stdout",
     "output_type": "stream",
     "text": [
      "Locality                   0\n",
      "10                         0\n",
      "2                          0\n",
      "3                          0\n",
      "4                          0\n",
      "5                          0\n",
      "6                          0\n",
      "7                          0\n",
      "8                          0\n",
      "9                          0\n",
      "> 10                       0\n",
      "Y                          0\n",
      "Builder Floor Apartment    0\n",
      "Penthouse                  0\n",
      "Residential House          0\n",
      "Villa                      0\n",
      "Builder                    0\n",
      "Owner                      0\n",
      "Resale                     0\n",
      "2.0                        0\n",
      "3.0                        0\n",
      "4.0                        0\n",
      "5.0                        0\n",
      "6.0                        0\n",
      "7.0                        0\n",
      "8.0                        0\n",
      "9.0                        0\n",
      "10.0                       0\n",
      "Semi-Furnished             0\n",
      "Unfurnished                0\n",
      "dtype: int64\n"
     ]
    }
   ],
   "source": [
    "print(X_train.isnull().sum())"
   ]
  },
  {
   "cell_type": "code",
   "execution_count": 38,
   "metadata": {},
   "outputs": [
    {
     "name": "stderr",
     "output_type": "stream",
     "text": [
      "C:\\Users\\HP\\AppData\\Local\\Temp\\ipykernel_8496\\1906660890.py:4: SettingWithCopyWarning: \n",
      "A value is trying to be set on a copy of a slice from a DataFrame\n",
      "\n",
      "See the caveats in the documentation: https://pandas.pydata.org/pandas-docs/stable/user_guide/indexing.html#returning-a-view-versus-a-copy\n",
      "  Y_train.fillna(mean_price_train, inplace=True)\n"
     ]
    }
   ],
   "source": [
    "mean_price_train = Y_train.mean()\n",
    "\n",
    "# Replace NaN values in Y_train with the mean\n",
    "Y_train.fillna(mean_price_train, inplace=True)"
   ]
  },
  {
   "cell_type": "code",
   "execution_count": 39,
   "metadata": {},
   "outputs": [
    {
     "data": {
      "text/plain": [
       "0"
      ]
     },
     "execution_count": 39,
     "metadata": {},
     "output_type": "execute_result"
    }
   ],
   "source": [
    "Y_train.isnull().sum()"
   ]
  },
  {
   "cell_type": "code",
   "execution_count": 40,
   "metadata": {},
   "outputs": [
    {
     "name": "stdout",
     "output_type": "stream",
     "text": [
      "<class 'pandas.core.frame.DataFrame'>\n",
      "Index: 10762 entries, 0 to 0\n",
      "Data columns (total 30 columns):\n",
      " #   Column                   Non-Null Count  Dtype \n",
      "---  ------                   --------------  ----- \n",
      " 0   Locality                 10762 non-null  object\n",
      " 1   10                       10762 non-null  bool  \n",
      " 2   2                        10762 non-null  bool  \n",
      " 3   3                        10762 non-null  bool  \n",
      " 4   4                        10762 non-null  bool  \n",
      " 5   5                        10762 non-null  bool  \n",
      " 6   6                        10762 non-null  bool  \n",
      " 7   7                        10762 non-null  bool  \n",
      " 8   8                        10762 non-null  bool  \n",
      " 9   9                        10762 non-null  bool  \n",
      " 10  > 10                     10762 non-null  bool  \n",
      " 11  Y                        10762 non-null  bool  \n",
      " 12  Builder Floor Apartment  10762 non-null  bool  \n",
      " 13  Penthouse                10762 non-null  bool  \n",
      " 14  Residential House        10762 non-null  bool  \n",
      " 15  Villa                    10762 non-null  bool  \n",
      " 16  Builder                  10762 non-null  bool  \n",
      " 17  Owner                    10762 non-null  bool  \n",
      " 18  Resale                   10762 non-null  bool  \n",
      " 19  2.0                      10762 non-null  bool  \n",
      " 20  3.0                      10762 non-null  bool  \n",
      " 21  4.0                      10762 non-null  bool  \n",
      " 22  5.0                      10762 non-null  bool  \n",
      " 23  6.0                      10762 non-null  bool  \n",
      " 24  7.0                      10762 non-null  bool  \n",
      " 25  8.0                      10762 non-null  bool  \n",
      " 26  9.0                      10762 non-null  bool  \n",
      " 27  10.0                     10762 non-null  bool  \n",
      " 28  Semi-Furnished           10762 non-null  bool  \n",
      " 29  Unfurnished              10762 non-null  bool  \n",
      "dtypes: bool(29), object(1)\n",
      "memory usage: 472.9+ KB\n"
     ]
    }
   ],
   "source": [
    "X_train.info()"
   ]
  },
  {
   "cell_type": "code",
   "execution_count": 41,
   "metadata": {},
   "outputs": [],
   "source": [
    "X_train.drop(columns=['Locality'], inplace=True)"
   ]
  },
  {
   "cell_type": "code",
   "execution_count": 42,
   "metadata": {},
   "outputs": [
    {
     "name": "stdout",
     "output_type": "stream",
     "text": [
      "<class 'pandas.core.frame.DataFrame'>\n",
      "Index: 10762 entries, 0 to 0\n",
      "Data columns (total 29 columns):\n",
      " #   Column                   Non-Null Count  Dtype\n",
      "---  ------                   --------------  -----\n",
      " 0   10                       10762 non-null  bool \n",
      " 1   2                        10762 non-null  bool \n",
      " 2   3                        10762 non-null  bool \n",
      " 3   4                        10762 non-null  bool \n",
      " 4   5                        10762 non-null  bool \n",
      " 5   6                        10762 non-null  bool \n",
      " 6   7                        10762 non-null  bool \n",
      " 7   8                        10762 non-null  bool \n",
      " 8   9                        10762 non-null  bool \n",
      " 9   > 10                     10762 non-null  bool \n",
      " 10  Y                        10762 non-null  bool \n",
      " 11  Builder Floor Apartment  10762 non-null  bool \n",
      " 12  Penthouse                10762 non-null  bool \n",
      " 13  Residential House        10762 non-null  bool \n",
      " 14  Villa                    10762 non-null  bool \n",
      " 15  Builder                  10762 non-null  bool \n",
      " 16  Owner                    10762 non-null  bool \n",
      " 17  Resale                   10762 non-null  bool \n",
      " 18  2.0                      10762 non-null  bool \n",
      " 19  3.0                      10762 non-null  bool \n",
      " 20  4.0                      10762 non-null  bool \n",
      " 21  5.0                      10762 non-null  bool \n",
      " 22  6.0                      10762 non-null  bool \n",
      " 23  7.0                      10762 non-null  bool \n",
      " 24  8.0                      10762 non-null  bool \n",
      " 25  9.0                      10762 non-null  bool \n",
      " 26  10.0                     10762 non-null  bool \n",
      " 27  Semi-Furnished           10762 non-null  bool \n",
      " 28  Unfurnished              10762 non-null  bool \n",
      "dtypes: bool(29)\n",
      "memory usage: 388.9 KB\n"
     ]
    }
   ],
   "source": [
    "X_train.info()"
   ]
  },
  {
   "cell_type": "code",
   "execution_count": 43,
   "metadata": {},
   "outputs": [
    {
     "data": {
      "text/plain": [
       "0    11000000.0\n",
       "1     5000000.0\n",
       "2     4900000.0\n",
       "3    10600000.0\n",
       "4     4620000.0\n",
       "Name: Price, dtype: float64"
      ]
     },
     "execution_count": 43,
     "metadata": {},
     "output_type": "execute_result"
    }
   ],
   "source": [
    "Y_train.head()"
   ]
  },
  {
   "cell_type": "markdown",
   "metadata": {},
   "source": [
    "### Training the Model"
   ]
  },
  {
   "cell_type": "code",
   "execution_count": 44,
   "metadata": {},
   "outputs": [
    {
     "data": {
      "text/html": [
       "<style>#sk-container-id-1 {color: black;}#sk-container-id-1 pre{padding: 0;}#sk-container-id-1 div.sk-toggleable {background-color: white;}#sk-container-id-1 label.sk-toggleable__label {cursor: pointer;display: block;width: 100%;margin-bottom: 0;padding: 0.3em;box-sizing: border-box;text-align: center;}#sk-container-id-1 label.sk-toggleable__label-arrow:before {content: \"▸\";float: left;margin-right: 0.25em;color: #696969;}#sk-container-id-1 label.sk-toggleable__label-arrow:hover:before {color: black;}#sk-container-id-1 div.sk-estimator:hover label.sk-toggleable__label-arrow:before {color: black;}#sk-container-id-1 div.sk-toggleable__content {max-height: 0;max-width: 0;overflow: hidden;text-align: left;background-color: #f0f8ff;}#sk-container-id-1 div.sk-toggleable__content pre {margin: 0.2em;color: black;border-radius: 0.25em;background-color: #f0f8ff;}#sk-container-id-1 input.sk-toggleable__control:checked~div.sk-toggleable__content {max-height: 200px;max-width: 100%;overflow: auto;}#sk-container-id-1 input.sk-toggleable__control:checked~label.sk-toggleable__label-arrow:before {content: \"▾\";}#sk-container-id-1 div.sk-estimator input.sk-toggleable__control:checked~label.sk-toggleable__label {background-color: #d4ebff;}#sk-container-id-1 div.sk-label input.sk-toggleable__control:checked~label.sk-toggleable__label {background-color: #d4ebff;}#sk-container-id-1 input.sk-hidden--visually {border: 0;clip: rect(1px 1px 1px 1px);clip: rect(1px, 1px, 1px, 1px);height: 1px;margin: -1px;overflow: hidden;padding: 0;position: absolute;width: 1px;}#sk-container-id-1 div.sk-estimator {font-family: monospace;background-color: #f0f8ff;border: 1px dotted black;border-radius: 0.25em;box-sizing: border-box;margin-bottom: 0.5em;}#sk-container-id-1 div.sk-estimator:hover {background-color: #d4ebff;}#sk-container-id-1 div.sk-parallel-item::after {content: \"\";width: 100%;border-bottom: 1px solid gray;flex-grow: 1;}#sk-container-id-1 div.sk-label:hover label.sk-toggleable__label {background-color: #d4ebff;}#sk-container-id-1 div.sk-serial::before {content: \"\";position: absolute;border-left: 1px solid gray;box-sizing: border-box;top: 0;bottom: 0;left: 50%;z-index: 0;}#sk-container-id-1 div.sk-serial {display: flex;flex-direction: column;align-items: center;background-color: white;padding-right: 0.2em;padding-left: 0.2em;position: relative;}#sk-container-id-1 div.sk-item {position: relative;z-index: 1;}#sk-container-id-1 div.sk-parallel {display: flex;align-items: stretch;justify-content: center;background-color: white;position: relative;}#sk-container-id-1 div.sk-item::before, #sk-container-id-1 div.sk-parallel-item::before {content: \"\";position: absolute;border-left: 1px solid gray;box-sizing: border-box;top: 0;bottom: 0;left: 50%;z-index: -1;}#sk-container-id-1 div.sk-parallel-item {display: flex;flex-direction: column;z-index: 1;position: relative;background-color: white;}#sk-container-id-1 div.sk-parallel-item:first-child::after {align-self: flex-end;width: 50%;}#sk-container-id-1 div.sk-parallel-item:last-child::after {align-self: flex-start;width: 50%;}#sk-container-id-1 div.sk-parallel-item:only-child::after {width: 0;}#sk-container-id-1 div.sk-dashed-wrapped {border: 1px dashed gray;margin: 0 0.4em 0.5em 0.4em;box-sizing: border-box;padding-bottom: 0.4em;background-color: white;}#sk-container-id-1 div.sk-label label {font-family: monospace;font-weight: bold;display: inline-block;line-height: 1.2em;}#sk-container-id-1 div.sk-label-container {text-align: center;}#sk-container-id-1 div.sk-container {/* jupyter's `normalize.less` sets `[hidden] { display: none; }` but bootstrap.min.css set `[hidden] { display: none !important; }` so we also need the `!important` here to be able to override the default hidden behavior on the sphinx rendered scikit-learn.org. See: https://github.com/scikit-learn/scikit-learn/issues/21755 */display: inline-block !important;position: relative;}#sk-container-id-1 div.sk-text-repr-fallback {display: none;}</style><div id=\"sk-container-id-1\" class=\"sk-top-container\"><div class=\"sk-text-repr-fallback\"><pre>XGBRegressor(base_score=None, booster=None, callbacks=None,\n",
       "             colsample_bylevel=None, colsample_bynode=None,\n",
       "             colsample_bytree=None, device=None, early_stopping_rounds=None,\n",
       "             enable_categorical=False, eval_metric=None, feature_types=None,\n",
       "             gamma=None, grow_policy=None, importance_type=None,\n",
       "             interaction_constraints=None, learning_rate=None, max_bin=None,\n",
       "             max_cat_threshold=None, max_cat_to_onehot=None,\n",
       "             max_delta_step=None, max_depth=None, max_leaves=None,\n",
       "             min_child_weight=None, missing=nan, monotone_constraints=None,\n",
       "             multi_strategy=None, n_estimators=None, n_jobs=None,\n",
       "             num_parallel_tree=None, random_state=None, ...)</pre><b>In a Jupyter environment, please rerun this cell to show the HTML representation or trust the notebook. <br />On GitHub, the HTML representation is unable to render, please try loading this page with nbviewer.org.</b></div><div class=\"sk-container\" hidden><div class=\"sk-item\"><div class=\"sk-estimator sk-toggleable\"><input class=\"sk-toggleable__control sk-hidden--visually\" id=\"sk-estimator-id-1\" type=\"checkbox\" checked><label for=\"sk-estimator-id-1\" class=\"sk-toggleable__label sk-toggleable__label-arrow\">XGBRegressor</label><div class=\"sk-toggleable__content\"><pre>XGBRegressor(base_score=None, booster=None, callbacks=None,\n",
       "             colsample_bylevel=None, colsample_bynode=None,\n",
       "             colsample_bytree=None, device=None, early_stopping_rounds=None,\n",
       "             enable_categorical=False, eval_metric=None, feature_types=None,\n",
       "             gamma=None, grow_policy=None, importance_type=None,\n",
       "             interaction_constraints=None, learning_rate=None, max_bin=None,\n",
       "             max_cat_threshold=None, max_cat_to_onehot=None,\n",
       "             max_delta_step=None, max_depth=None, max_leaves=None,\n",
       "             min_child_weight=None, missing=nan, monotone_constraints=None,\n",
       "             multi_strategy=None, n_estimators=None, n_jobs=None,\n",
       "             num_parallel_tree=None, random_state=None, ...)</pre></div></div></div></div></div>"
      ],
      "text/plain": [
       "XGBRegressor(base_score=None, booster=None, callbacks=None,\n",
       "             colsample_bylevel=None, colsample_bynode=None,\n",
       "             colsample_bytree=None, device=None, early_stopping_rounds=None,\n",
       "             enable_categorical=False, eval_metric=None, feature_types=None,\n",
       "             gamma=None, grow_policy=None, importance_type=None,\n",
       "             interaction_constraints=None, learning_rate=None, max_bin=None,\n",
       "             max_cat_threshold=None, max_cat_to_onehot=None,\n",
       "             max_delta_step=None, max_depth=None, max_leaves=None,\n",
       "             min_child_weight=None, missing=nan, monotone_constraints=None,\n",
       "             multi_strategy=None, n_estimators=None, n_jobs=None,\n",
       "             num_parallel_tree=None, random_state=None, ...)"
      ]
     },
     "execution_count": 44,
     "metadata": {},
     "output_type": "execute_result"
    }
   ],
   "source": [
    "import xgboost\n",
    "classifier = xgboost.XGBRegressor()\n",
    "classifier.fit(X_train, Y_train)"
   ]
  },
  {
   "cell_type": "code",
   "execution_count": 45,
   "metadata": {},
   "outputs": [],
   "source": [
    "import pickle\n",
    "filename = 'model_xgboost.pkl'\n",
    "pickle.dump(classifier, open(filename, 'wb'))"
   ]
  },
  {
   "cell_type": "code",
   "execution_count": 46,
   "metadata": {},
   "outputs": [
    {
     "name": "stdout",
     "output_type": "stream",
     "text": [
      "<class 'pandas.core.frame.DataFrame'>\n",
      "Index: 2690 entries, 1 to 2690\n",
      "Data columns (total 30 columns):\n",
      " #   Column                   Non-Null Count  Dtype \n",
      "---  ------                   --------------  ----- \n",
      " 0   Locality                 2690 non-null   object\n",
      " 1   10                       2690 non-null   bool  \n",
      " 2   2                        2690 non-null   bool  \n",
      " 3   3                        2690 non-null   bool  \n",
      " 4   4                        2690 non-null   bool  \n",
      " 5   5                        2690 non-null   bool  \n",
      " 6   6                        2690 non-null   bool  \n",
      " 7   7                        2690 non-null   bool  \n",
      " 8   8                        2690 non-null   bool  \n",
      " 9   9                        2690 non-null   bool  \n",
      " 10  > 10                     2690 non-null   bool  \n",
      " 11  Y                        2690 non-null   bool  \n",
      " 12  Builder Floor Apartment  2690 non-null   bool  \n",
      " 13  Penthouse                2690 non-null   bool  \n",
      " 14  Residential House        2690 non-null   bool  \n",
      " 15  Villa                    2690 non-null   bool  \n",
      " 16  Builder                  2690 non-null   bool  \n",
      " 17  Owner                    2690 non-null   bool  \n",
      " 18  Resale                   2690 non-null   bool  \n",
      " 19  2.0                      2690 non-null   bool  \n",
      " 20  3.0                      2690 non-null   bool  \n",
      " 21  4.0                      2690 non-null   bool  \n",
      " 22  5.0                      2690 non-null   bool  \n",
      " 23  6.0                      2690 non-null   bool  \n",
      " 24  7.0                      2690 non-null   bool  \n",
      " 25  8.0                      2690 non-null   bool  \n",
      " 26  9.0                      2690 non-null   bool  \n",
      " 27  10.0                     2690 non-null   bool  \n",
      " 28  Semi-Furnished           2690 non-null   bool  \n",
      " 29  Unfurnished              2690 non-null   bool  \n",
      "dtypes: bool(29), object(1)\n",
      "memory usage: 118.2+ KB\n"
     ]
    }
   ],
   "source": [
    "df_test.info()"
   ]
  },
  {
   "cell_type": "code",
   "execution_count": 47,
   "metadata": {},
   "outputs": [
    {
     "name": "stderr",
     "output_type": "stream",
     "text": [
      "C:\\Users\\HP\\AppData\\Local\\Temp\\ipykernel_8496\\3822564291.py:1: SettingWithCopyWarning: \n",
      "A value is trying to be set on a copy of a slice from a DataFrame\n",
      "\n",
      "See the caveats in the documentation: https://pandas.pydata.org/pandas-docs/stable/user_guide/indexing.html#returning-a-view-versus-a-copy\n",
      "  df_test.drop(columns=['Locality'], inplace=True)\n"
     ]
    }
   ],
   "source": [
    "df_test.drop(columns=['Locality'], inplace=True)"
   ]
  },
  {
   "cell_type": "code",
   "execution_count": 48,
   "metadata": {},
   "outputs": [],
   "source": [
    "Y_pred = classifier.predict(df_test)"
   ]
  },
  {
   "cell_type": "code",
   "execution_count": 49,
   "metadata": {},
   "outputs": [
    {
     "data": {
      "text/plain": [
       "array([12506679. ,  7366077. ,  5306423. , ...,  2750958.5,  5711110.5,\n",
       "        5306423. ], dtype=float32)"
      ]
     },
     "execution_count": 49,
     "metadata": {},
     "output_type": "execute_result"
    }
   ],
   "source": [
    "Y_pred"
   ]
  },
  {
   "cell_type": "code",
   "execution_count": 50,
   "metadata": {},
   "outputs": [
    {
     "name": "stdout",
     "output_type": "stream",
     "text": [
      "<class 'pandas.core.series.Series'>\n",
      "Index: 2690 entries, 1 to 2690\n",
      "Series name: Price\n",
      "Non-Null Count  Dtype \n",
      "--------------  ----- \n",
      "2690 non-null   object\n",
      "dtypes: object(1)\n",
      "memory usage: 42.0+ KB\n"
     ]
    }
   ],
   "source": [
    "df_test_actual.info()"
   ]
  },
  {
   "cell_type": "code",
   "execution_count": 51,
   "metadata": {},
   "outputs": [
    {
     "data": {
      "text/plain": [
       "0"
      ]
     },
     "execution_count": 51,
     "metadata": {},
     "output_type": "execute_result"
    }
   ],
   "source": [
    "df_test_actual.isnull().sum()"
   ]
  },
  {
   "cell_type": "code",
   "execution_count": 52,
   "metadata": {},
   "outputs": [],
   "source": [
    "from sklearn.metrics import mean_squared_error\n",
    "import numpy as np\n",
    "\n",
    "def convert_price_to_numeric(price_str, mean_price):\n",
    "    if 'Cr' in price_str:\n",
    "        return float(price_str.replace(' Cr', '')) * 1e7  # Multiply by 10 million to convert to crores\n",
    "    elif 'Lac' in price_str:\n",
    "        return float(price_str.replace(' Lac', '')) * 1e5  # Multiply by 100,000 to convert to lakhs\n",
    "    elif price_str == 'Call for Price':\n",
    "        return mean_price  # Replace 'Call for Price' with the mean of the 'Price' column\n",
    "    else:\n",
    "        return float(price_str)\n",
    "    \n",
    "numeric_prices_test = pd.to_numeric(df_test_actual.replace('Call for Price', np.nan), errors='coerce')\n",
    "mean_price_test = numeric_prices_test.mean()\n",
    "\n",
    "df_test_actual = df_test_actual.apply(lambda x: convert_price_to_numeric(x, mean_price_test))\n",
    "Y_test = df_test_actual\n"
   ]
  },
  {
   "cell_type": "code",
   "execution_count": 53,
   "metadata": {},
   "outputs": [
    {
     "data": {
      "text/plain": [
       "62"
      ]
     },
     "execution_count": 53,
     "metadata": {},
     "output_type": "execute_result"
    }
   ],
   "source": [
    "Y_test.isnull().sum()"
   ]
  },
  {
   "cell_type": "code",
   "execution_count": 54,
   "metadata": {},
   "outputs": [
    {
     "data": {
      "text/plain": [
       "1    12800000.0\n",
       "2     6200000.0\n",
       "3     5000000.0\n",
       "4    10000000.0\n",
       "5     3500000.0\n",
       "Name: Price, dtype: float64"
      ]
     },
     "execution_count": 54,
     "metadata": {},
     "output_type": "execute_result"
    }
   ],
   "source": [
    "Y_test.head()"
   ]
  },
  {
   "cell_type": "code",
   "execution_count": 55,
   "metadata": {},
   "outputs": [],
   "source": [
    "avg_price = Y_test.mean()\n",
    "Y_test.fillna(avg_price, inplace=True)"
   ]
  },
  {
   "cell_type": "code",
   "execution_count": 56,
   "metadata": {},
   "outputs": [],
   "source": [
    "Y_test = Y_test.to_numpy()"
   ]
  },
  {
   "cell_type": "code",
   "execution_count": 57,
   "metadata": {},
   "outputs": [
    {
     "name": "stdout",
     "output_type": "stream",
     "text": [
      "Root Mean Squared Error (RMSE): 2196716.7199403797\n"
     ]
    }
   ],
   "source": [
    "# Assuming y_pred and Y_test are NumPy arrays or pandas Series\n",
    "rmse = np.sqrt(mean_squared_error(Y_test, Y_pred))\n",
    "\n",
    "print(f'Root Mean Squared Error (RMSE): {rmse}')"
   ]
  },
  {
   "cell_type": "code",
   "execution_count": 58,
   "metadata": {},
   "outputs": [
    {
     "data": {
      "image/png": "[encoded data removed]",
      "text/plain": [
       "<Figure size 640x480 with 1 Axes>"
      ]
     },
     "metadata": {},
     "output_type": "display_data"
    }
   ],
   "source": [
    "plt.scatter(Y_test, Y_pred)\n",
    "plt.xlabel('Actual Prices')\n",
    "plt.ylabel('Predicted Prices')\n",
    "plt.title('Scatter Plot of Actual vs Predicted Prices')\n",
    "plt.show()"
   ]
  },
  {
   "cell_type": "code",
   "execution_count": 59,
   "metadata": {},
   "outputs": [
    {
     "data": {
      "image/png": "[encoded data removed]",
      "text/plain": [
       "<Figure size 640x480 with 1 Axes>"
      ]
     },
     "metadata": {},
     "output_type": "display_data"
    }
   ],
   "source": [
    "# Distribution plot for residuals\n",
    "residuals = Y_test - Y_pred\n",
    "plt.hist(residuals, bins=50, edgecolor='black')\n",
    "plt.xlabel('Residuals')\n",
    "plt.ylabel('Frequency')\n",
    "plt.title('Distribution of Residuals')\n",
    "plt.show()"
   ]
  },
  {
   "cell_type": "code",
   "execution_count": 60,
   "metadata": {},
   "outputs": [
    {
     "data": {
      "image/png": "[encoded data removed]",
      "text/plain": [
       "<Figure size 1000x600 with 1 Axes>"
      ]
     },
     "metadata": {},
     "output_type": "display_data"
    }
   ],
   "source": [
    "# Sample 100 random data points\n",
    "sample_indices = np.random.choice(len(Y_test), size=100, replace=False)\n",
    "\n",
    "# Plot the sampled data\n",
    "plt.figure(figsize=(10, 6))\n",
    "plt.scatter(sample_indices, Y_test[sample_indices], label='Actual Prices', marker='o', alpha=0.7)\n",
    "plt.scatter(sample_indices, Y_pred[sample_indices], label='Predicted Prices', marker='x', alpha=0.7)\n",
    "plt.title('Actual vs Predicted Prices (Sampled)')\n",
    "plt.xlabel('Data Points')\n",
    "plt.ylabel('Prices')\n",
    "plt.legend()\n",
    "plt.show()"
   ]
  },
  {
   "cell_type": "code",
   "execution_count": 61,
   "metadata": {},
   "outputs": [
    {
     "data": {
      "image/png": "[encoded data removed]",
      "text/plain": [
       "<Figure size 1000x600 with 1 Axes>"
      ]
     },
     "metadata": {},
     "output_type": "display_data"
    }
   ],
   "source": [
    "# Plot the regression plot\n",
    "df_visualize = pd.DataFrame({'Actual Prices': Y_test, 'Predicted Prices': Y_pred})\n",
    "plt.figure(figsize=(10, 6))\n",
    "sns.regplot(x='Actual Prices', y='Predicted Prices', data=df_visualize, scatter_kws={'alpha':0.5})\n",
    "plt.title('Regression Plot: Actual vs Predicted Prices')\n",
    "plt.xlabel('Actual Prices')\n",
    "plt.ylabel('Predicted Prices')\n",
    "plt.show()"
   ]
  }
 ],
 "metadata": {
  "kernelspec": {
   "display_name": "Python 3",
   "language": "python",
   "name": "python3"
  },
  "language_info": {
   "codemirror_mode": {
    "name": "ipython",
    "version": 3
   },
   "file_extension": ".py",
   "mimetype": "text/x-python",
   "name": "python",
   "nbconvert_exporter": "python",
   "pygments_lexer": "ipython3",
   "version": "3.12.1"
  }
 },
 "nbformat": 4,
 "nbformat_minor": 2
}
