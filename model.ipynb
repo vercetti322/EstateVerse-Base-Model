{
 "cells": [
  {
   "cell_type": "markdown",
   "metadata": {},
   "source": [
    "## Advanced Regression on House Rent Prediction"
   ]
  },
  {
   "cell_type": "code",
   "execution_count": 39,
   "metadata": {},
   "outputs": [],
   "source": [
    "import os\n",
    "import pandas as pd\n",
    "import numpy as np \n",
    "import seaborn as sns\n",
    "import matplotlib.pyplot as plt "
   ]
  },
  {
   "cell_type": "markdown",
   "metadata": {},
   "source": [
    "### Cleaning the Data"
   ]
  },
  {
   "cell_type": "code",
   "execution_count": 40,
   "metadata": {},
   "outputs": [],
   "source": [
    "# loading the datasets\n",
    "train_df = pd.read_csv('Data\\\\train_data.csv')\n",
    "test_df = pd.read_csv('Data\\\\test_data.csv')"
   ]
  },
  {
   "cell_type": "code",
   "execution_count": 41,
   "metadata": {},
   "outputs": [
    {
     "data": {
      "text/html": [
       "<div>\n",
       "<style scoped>\n",
       "    .dataframe tbody tr th:only-of-type {\n",
       "        vertical-align: middle;\n",
       "    }\n",
       "\n",
       "    .dataframe tbody tr th {\n",
       "        vertical-align: top;\n",
       "    }\n",
       "\n",
       "    .dataframe thead th {\n",
       "        text-align: right;\n",
       "    }\n",
       "</style>\n",
       "<table border=\"1\" class=\"dataframe\">\n",
       "  <thead>\n",
       "    <tr style=\"text-align: right;\">\n",
       "      <th></th>\n",
       "      <th>Bedrooms</th>\n",
       "      <th>Paid User</th>\n",
       "      <th>Locality</th>\n",
       "      <th>Property Type</th>\n",
       "      <th>User Type</th>\n",
       "      <th>Prime Location</th>\n",
       "      <th>Other</th>\n",
       "      <th>Price</th>\n",
       "    </tr>\n",
       "  </thead>\n",
       "  <tbody>\n",
       "    <tr>\n",
       "      <th>0</th>\n",
       "      <td>2</td>\n",
       "      <td>N</td>\n",
       "      <td>Patancheru</td>\n",
       "      <td>Residential House</td>\n",
       "      <td>Owner</td>\n",
       "      <td>Y</td>\n",
       "      <td>***carpet area*2500 sqft****status*Ready to Mo...</td>\n",
       "      <td>1.10 Cr</td>\n",
       "    </tr>\n",
       "    <tr>\n",
       "      <th>1</th>\n",
       "      <td>2</td>\n",
       "      <td>N</td>\n",
       "      <td>Ramanthapur, NH 2 2</td>\n",
       "      <td>Apartment</td>\n",
       "      <td>Owner</td>\n",
       "      <td>Y</td>\n",
       "      <td>***carpet area*1007 sqft****status*Ready to Mo...</td>\n",
       "      <td>50 Lac</td>\n",
       "    </tr>\n",
       "    <tr>\n",
       "      <th>2</th>\n",
       "      <td>2</td>\n",
       "      <td>N</td>\n",
       "      <td>Malkajgiri</td>\n",
       "      <td>Apartment</td>\n",
       "      <td>Owner</td>\n",
       "      <td>Y</td>\n",
       "      <td>***super area*1045 sqft****status*Ready to Mov...</td>\n",
       "      <td>49 Lac</td>\n",
       "    </tr>\n",
       "    <tr>\n",
       "      <th>3</th>\n",
       "      <td>3</td>\n",
       "      <td>Y</td>\n",
       "      <td>Manikonda, Outer Ring Road</td>\n",
       "      <td>Apartment</td>\n",
       "      <td>Builder</td>\n",
       "      <td>Y</td>\n",
       "      <td>***super area*1640 sqft****status**\\t\\t\\t\\t\\t\\...</td>\n",
       "      <td>1.06 Cr</td>\n",
       "    </tr>\n",
       "    <tr>\n",
       "      <th>4</th>\n",
       "      <td>3</td>\n",
       "      <td>Y</td>\n",
       "      <td>Aminpur</td>\n",
       "      <td>Apartment</td>\n",
       "      <td>Builder</td>\n",
       "      <td>Y</td>\n",
       "      <td>***super area*1039 sqft****status**\\t\\t\\t\\t\\t\\...</td>\n",
       "      <td>46.2 Lac</td>\n",
       "    </tr>\n",
       "  </tbody>\n",
       "</table>\n",
       "</div>"
      ],
      "text/plain": [
       "  Bedrooms Paid User                    Locality      Property Type User Type  \\\n",
       "0        2         N                  Patancheru  Residential House     Owner   \n",
       "1        2         N         Ramanthapur, NH 2 2          Apartment     Owner   \n",
       "2        2         N                  Malkajgiri          Apartment     Owner   \n",
       "3        3         Y  Manikonda, Outer Ring Road          Apartment   Builder   \n",
       "4        3         Y                     Aminpur          Apartment   Builder   \n",
       "\n",
       "  Prime Location                                              Other     Price  \n",
       "0              Y  ***carpet area*2500 sqft****status*Ready to Mo...   1.10 Cr  \n",
       "1              Y  ***carpet area*1007 sqft****status*Ready to Mo...    50 Lac  \n",
       "2              Y  ***super area*1045 sqft****status*Ready to Mov...    49 Lac  \n",
       "3              Y  ***super area*1640 sqft****status**\\t\\t\\t\\t\\t\\...   1.06 Cr  \n",
       "4              Y  ***super area*1039 sqft****status**\\t\\t\\t\\t\\t\\...  46.2 Lac  "
      ]
     },
     "execution_count": 41,
     "metadata": {},
     "output_type": "execute_result"
    }
   ],
   "source": [
    "# peeking the dataset\n",
    "train_df.head()"
   ]
  },
  {
   "cell_type": "code",
   "execution_count": 42,
   "metadata": {},
   "outputs": [
    {
     "name": "stdout",
     "output_type": "stream",
     "text": [
      "<class 'pandas.core.frame.DataFrame'>\n",
      "RangeIndex: 10762 entries, 0 to 10761\n",
      "Data columns (total 8 columns):\n",
      " #   Column          Non-Null Count  Dtype \n",
      "---  ------          --------------  ----- \n",
      " 0   Bedrooms        10762 non-null  object\n",
      " 1   Paid User       10762 non-null  object\n",
      " 2   Locality        10762 non-null  object\n",
      " 3   Property Type   10762 non-null  object\n",
      " 4   User Type       10762 non-null  object\n",
      " 5   Prime Location  10762 non-null  object\n",
      " 6   Other           10762 non-null  object\n",
      " 7   Price           10762 non-null  object\n",
      "dtypes: object(8)\n",
      "memory usage: 672.8+ KB\n"
     ]
    }
   ],
   "source": [
    "train_df.info()"
   ]
  },
  {
   "cell_type": "code",
   "execution_count": 43,
   "metadata": {},
   "outputs": [
    {
     "data": {
      "text/plain": [
       "Bedrooms          0\n",
       "Paid User         0\n",
       "Locality          0\n",
       "Property Type     0\n",
       "User Type         0\n",
       "Prime Location    0\n",
       "Other             0\n",
       "Price             0\n",
       "dtype: int64"
      ]
     },
     "execution_count": 43,
     "metadata": {},
     "output_type": "execute_result"
    }
   ],
   "source": [
    "train_df.isnull().sum()"
   ]
  },
  {
   "cell_type": "code",
   "execution_count": 44,
   "metadata": {},
   "outputs": [
    {
     "data": {
      "text/plain": [
       "'***carpet area*1007\\xa0sqft****status*Ready to Move****floor*1 out of 4 floors***transaction*Resale***furnishing*Semi-Furnished***facing*East***car parking*1 Covered***bathroom*2***balcony*2***ownership*Freehold**'"
      ]
     },
     "execution_count": 44,
     "metadata": {},
     "output_type": "execute_result"
    }
   ],
   "source": [
    "train_df['Other'].iloc[1]"
   ]
  },
  {
   "cell_type": "code",
   "execution_count": 45,
   "metadata": {},
   "outputs": [],
   "source": [
    "# Define a function to extract values for each attribute\n",
    "def extract_property_info(df):\n",
    "    # Extract information from 'Other' column\n",
    "    df['carpet area'] = df['Other'].str.extract(r'\\*carpet area\\*([^*]+)\\*')\n",
    "    df['status'] = df['Other'].str.extract(r'\\*status\\*([^*]+)\\*')\n",
    "    df['transaction'] = df['Other'].str.extract(r'\\*transaction\\*([^*]+)\\*')\n",
    "    df['overlooking'] = df['Other'].str.extract(r'\\*overlooking\\*([^*]+)\\*')\n",
    "    df['facing'] = df['Other'].str.extract(r'\\*facing\\*([^*]+)\\*')\n",
    "    df['bathroom'] = df['Other'].str.extract(r'\\*bathroom\\*([^*]+)\\*')\n",
    "    df['balcony'] = df['Other'].str.extract(r'\\*balcony\\*([^*]+)\\*')\n",
    "    df['furnishing'] = df['Other'].str.extract(r'\\*furnishing\\*([^*]+)\\*')\n",
    "\n",
    "    # Drop the original 'Other' column\n",
    "    df.drop(columns=['Other'], inplace=True)\n",
    "\n",
    "    # Convert numeric columns to numeric type\n",
    "    numeric_columns = ['carpet area', 'bathroom', 'balcony']\n",
    "    df[numeric_columns] = df[numeric_columns].apply(pd.to_numeric, errors='coerce')\n",
    "\n",
    "    return df\n",
    "\n",
    "# Apply the function to train_df and test_df\n",
    "train_df = extract_property_info(train_df)\n",
    "test_df = extract_property_info(test_df)"
   ]
  },
  {
   "cell_type": "code",
   "execution_count": 46,
   "metadata": {},
   "outputs": [
    {
     "data": {
      "text/plain": [
       "Bedrooms              0\n",
       "Paid User             0\n",
       "Locality              0\n",
       "Property Type         0\n",
       "User Type             0\n",
       "Prime Location        0\n",
       "Price                 0\n",
       "carpet area       10762\n",
       "status             3560\n",
       "transaction           1\n",
       "overlooking        7731\n",
       "facing             6121\n",
       "bathroom            252\n",
       "balcony            5631\n",
       "furnishing          250\n",
       "dtype: int64"
      ]
     },
     "execution_count": 46,
     "metadata": {},
     "output_type": "execute_result"
    }
   ],
   "source": [
    "train_df.isnull().sum()"
   ]
  },
  {
   "cell_type": "code",
   "execution_count": 47,
   "metadata": {},
   "outputs": [],
   "source": [
    "train_df.drop(columns=['carpet area', 'overlooking', 'balcony', 'facing', 'status'], inplace=True)\n",
    "test_df.drop(columns=['carpet area', 'overlooking', 'balcony', 'facing', 'status'], inplace=True)"
   ]
  },
  {
   "cell_type": "code",
   "execution_count": 48,
   "metadata": {},
   "outputs": [
    {
     "name": "stdout",
     "output_type": "stream",
     "text": [
      "<class 'pandas.core.frame.DataFrame'>\n",
      "RangeIndex: 10762 entries, 0 to 10761\n",
      "Data columns (total 10 columns):\n",
      " #   Column          Non-Null Count  Dtype  \n",
      "---  ------          --------------  -----  \n",
      " 0   Bedrooms        10762 non-null  object \n",
      " 1   Paid User       10762 non-null  object \n",
      " 2   Locality        10762 non-null  object \n",
      " 3   Property Type   10762 non-null  object \n",
      " 4   User Type       10762 non-null  object \n",
      " 5   Prime Location  10762 non-null  object \n",
      " 6   Price           10762 non-null  object \n",
      " 7   transaction     10761 non-null  object \n",
      " 8   bathroom        10510 non-null  float64\n",
      " 9   furnishing      10512 non-null  object \n",
      "dtypes: float64(1), object(9)\n",
      "memory usage: 840.9+ KB\n"
     ]
    }
   ],
   "source": [
    "train_df.info()"
   ]
  },
  {
   "cell_type": "code",
   "execution_count": 49,
   "metadata": {},
   "outputs": [
    {
     "data": {
      "text/plain": [
       "<Axes: >"
      ]
     },
     "execution_count": 49,
     "metadata": {},
     "output_type": "execute_result"
    },
    {
     "data": {
      "image/png": "[encoded data removed]",
      "text/plain": [
       "<Figure size 640x480 with 1 Axes>"
      ]
     },
     "metadata": {},
     "output_type": "display_data"
    }
   ],
   "source": [
    "sns.heatmap(train_df.isnull(), yticklabels=False, cbar=False)"
   ]
  },
  {
   "cell_type": "code",
   "execution_count": 50,
   "metadata": {},
   "outputs": [
    {
     "data": {
      "text/plain": [
       "Bedrooms            0\n",
       "Paid User           0\n",
       "Locality            0\n",
       "Property Type       0\n",
       "User Type           0\n",
       "Prime Location      0\n",
       "Price               0\n",
       "transaction         1\n",
       "bathroom          252\n",
       "furnishing        250\n",
       "dtype: int64"
      ]
     },
     "execution_count": 50,
     "metadata": {},
     "output_type": "execute_result"
    }
   ],
   "source": [
    "train_df.isnull().sum()"
   ]
  },
  {
   "cell_type": "code",
   "execution_count": 51,
   "metadata": {},
   "outputs": [],
   "source": [
    "train_df['bathroom'] = train_df['bathroom'].fillna(train_df['bathroom'].mode()[0])\n",
    "test_df['bathroom'] = test_df['bathroom'].fillna(test_df['bathroom'].mode()[0])\n",
    "train_df['furnishing'] = train_df['furnishing'].fillna(train_df['furnishing'].mode()[0])\n",
    "test_df['furnishing'] = test_df['furnishing'].fillna(test_df['furnishing'].mode()[0])"
   ]
  },
  {
   "cell_type": "code",
   "execution_count": 52,
   "metadata": {},
   "outputs": [
    {
     "name": "stdout",
     "output_type": "stream",
     "text": [
      "<class 'pandas.core.frame.DataFrame'>\n",
      "RangeIndex: 10762 entries, 0 to 10761\n",
      "Data columns (total 10 columns):\n",
      " #   Column          Non-Null Count  Dtype  \n",
      "---  ------          --------------  -----  \n",
      " 0   Bedrooms        10762 non-null  object \n",
      " 1   Paid User       10762 non-null  object \n",
      " 2   Locality        10762 non-null  object \n",
      " 3   Property Type   10762 non-null  object \n",
      " 4   User Type       10762 non-null  object \n",
      " 5   Prime Location  10762 non-null  object \n",
      " 6   Price           10762 non-null  object \n",
      " 7   transaction     10761 non-null  object \n",
      " 8   bathroom        10762 non-null  float64\n",
      " 9   furnishing      10762 non-null  object \n",
      "dtypes: float64(1), object(9)\n",
      "memory usage: 840.9+ KB\n"
     ]
    }
   ],
   "source": [
    "train_df.info()"
   ]
  },
  {
   "cell_type": "code",
   "execution_count": 53,
   "metadata": {},
   "outputs": [
    {
     "name": "stdout",
     "output_type": "stream",
     "text": [
      "<class 'pandas.core.frame.DataFrame'>\n",
      "RangeIndex: 2691 entries, 0 to 2690\n",
      "Data columns (total 10 columns):\n",
      " #   Column          Non-Null Count  Dtype  \n",
      "---  ------          --------------  -----  \n",
      " 0   Bedrooms        2691 non-null   object \n",
      " 1   Paid User       2691 non-null   object \n",
      " 2   Locality        2691 non-null   object \n",
      " 3   Property Type   2691 non-null   object \n",
      " 4   User Type       2691 non-null   object \n",
      " 5   Prime Location  2691 non-null   object \n",
      " 6   Price           2691 non-null   object \n",
      " 7   transaction     2691 non-null   object \n",
      " 8   bathroom        2691 non-null   float64\n",
      " 9   furnishing      2691 non-null   object \n",
      "dtypes: float64(1), object(9)\n",
      "memory usage: 210.4+ KB\n"
     ]
    }
   ],
   "source": [
    "test_df.info()"
   ]
  },
  {
   "cell_type": "code",
   "execution_count": 54,
   "metadata": {},
   "outputs": [
    {
     "name": "stdout",
     "output_type": "stream",
     "text": [
      "<class 'pandas.core.frame.DataFrame'>\n",
      "RangeIndex: 10761 entries, 0 to 10760\n",
      "Data columns (total 10 columns):\n",
      " #   Column          Non-Null Count  Dtype  \n",
      "---  ------          --------------  -----  \n",
      " 0   Bedrooms        10761 non-null  object \n",
      " 1   Paid User       10761 non-null  object \n",
      " 2   Locality        10761 non-null  object \n",
      " 3   Property Type   10761 non-null  object \n",
      " 4   User Type       10761 non-null  object \n",
      " 5   Prime Location  10761 non-null  object \n",
      " 6   Price           10761 non-null  object \n",
      " 7   transaction     10761 non-null  object \n",
      " 8   bathroom        10761 non-null  float64\n",
      " 9   furnishing      10761 non-null  object \n",
      "dtypes: float64(1), object(9)\n",
      "memory usage: 840.8+ KB\n"
     ]
    }
   ],
   "source": [
    "train_df = train_df.dropna(subset=['transaction']).reset_index(drop=True)\n",
    "train_df.info()"
   ]
  },
  {
   "cell_type": "code",
   "execution_count": 59,
   "metadata": {},
   "outputs": [
    {
     "name": "stdout",
     "output_type": "stream",
     "text": [
      "<class 'pandas.core.frame.DataFrame'>\n",
      "RangeIndex: 2691 entries, 0 to 2690\n",
      "Data columns (total 9 columns):\n",
      " #   Column         Non-Null Count  Dtype  \n",
      "---  ------         --------------  -----  \n",
      " 0   Bedrooms       2691 non-null   object \n",
      " 1   Paid User      2691 non-null   object \n",
      " 2   Locality       2691 non-null   object \n",
      " 3   Property Type  2691 non-null   object \n",
      " 4   User Type      2691 non-null   object \n",
      " 5   Price          2691 non-null   object \n",
      " 6   transaction    2691 non-null   object \n",
      " 7   bathroom       2691 non-null   float64\n",
      " 8   furnishing     2691 non-null   object \n",
      "dtypes: float64(1), object(8)\n",
      "memory usage: 189.3+ KB\n"
     ]
    }
   ],
   "source": [
    "test_df.info()"
   ]
  },
  {
   "cell_type": "markdown",
   "metadata": {},
   "source": [
    "### Handling Categorical features"
   ]
  },
  {
   "cell_type": "code",
   "execution_count": 55,
   "metadata": {},
   "outputs": [
    {
     "name": "stdout",
     "output_type": "stream",
     "text": [
      "Bedrooms            11\n",
      "Paid User            2\n",
      "Locality          1011\n",
      "Property Type        5\n",
      "User Type            3\n",
      "Prime Location       1\n",
      "Price              571\n",
      "transaction          2\n",
      "bathroom            10\n",
      "furnishing           3\n",
      "dtype: int64\n"
     ]
    }
   ],
   "source": [
    "unique_counts = train_df.nunique()\n",
    "print(unique_counts)"
   ]
  },
  {
   "cell_type": "code",
   "execution_count": 56,
   "metadata": {},
   "outputs": [],
   "source": [
    "train_df.drop(columns=['Prime Location'], inplace=True)\n",
    "test_df.drop(columns=['Prime Location'], inplace=True)"
   ]
  },
  {
   "cell_type": "code",
   "execution_count": 57,
   "metadata": {},
   "outputs": [],
   "source": [
    "categorical_columns = ['Bedrooms', 'Paid User', 'Property Type', 'User Type', 'transaction', 'bathroom', 'furnishing']"
   ]
  },
  {
   "cell_type": "code",
   "execution_count": 58,
   "metadata": {},
   "outputs": [
    {
     "data": {
      "text/plain": [
       "7"
      ]
     },
     "execution_count": 58,
     "metadata": {},
     "output_type": "execute_result"
    }
   ],
   "source": [
    "len(categorical_columns)"
   ]
  },
  {
   "cell_type": "code",
   "execution_count": null,
   "metadata": {},
   "outputs": [],
   "source": [
    "# function to encode categorical features easily\n"
   ]
  }
 ],
 "metadata": {
  "kernelspec": {
   "display_name": "Python 3",
   "language": "python",
   "name": "python3"
  },
  "language_info": {
   "codemirror_mode": {
    "name": "ipython",
    "version": 3
   },
   "file_extension": ".py",
   "mimetype": "text/x-python",
   "name": "python",
   "nbconvert_exporter": "python",
   "pygments_lexer": "ipython3",
   "version": "3.12.1"
  }
 },
 "nbformat": 4,
 "nbformat_minor": 2
}
