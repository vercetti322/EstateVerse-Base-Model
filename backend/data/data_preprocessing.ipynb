{
 "cells": [
  {
   "cell_type": "code",
   "execution_count": 1,
   "metadata": {},
   "outputs": [],
   "source": [
    "# resolving imports\n",
    "import os\n",
    "import pandas as pd\n",
    "import numpy as np "
   ]
  },
  {
   "cell_type": "code",
   "execution_count": 2,
   "metadata": {},
   "outputs": [
    {
     "name": "stdout",
     "output_type": "stream",
     "text": [
      "<class 'pandas.core.frame.DataFrame'>\n",
      "RangeIndex: 19110 entries, 0 to 19109\n",
      "Data columns (total 36 columns):\n",
      " #   Column              Non-Null Count  Dtype  \n",
      "---  ------              --------------  -----  \n",
      " 0   active              19110 non-null  bool   \n",
      " 1   amenities           18938 non-null  object \n",
      " 2   balconies           9574 non-null   float64\n",
      " 3   bathroom            19110 non-null  int64  \n",
      " 4   combineDescription  0 non-null      float64\n",
      " 5   completeStreetName  19108 non-null  object \n",
      " 6   deposit             19110 non-null  int64  \n",
      " 7   facing              9569 non-null   object \n",
      " 8   facingDesc          9569 non-null   object \n",
      " 9   floor               19110 non-null  int64  \n",
      " 10  furnishingDesc      19110 non-null  object \n",
      " 11  gym                 19110 non-null  bool   \n",
      " 12  id                  19110 non-null  object \n",
      " 13  isMaintenance       19110 non-null  bool   \n",
      " 14  lift                19110 non-null  bool   \n",
      " 15  loanAvailable       19110 non-null  bool   \n",
      " 16  locality            19104 non-null  object \n",
      " 17  localityId          19110 non-null  object \n",
      " 18  location            19110 non-null  object \n",
      " 19  maintenanceAmount   9452 non-null   float64\n",
      " 20  ownerName           19109 non-null  object \n",
      " 21  parking             19110 non-null  object \n",
      " 22  parkingDesc         18160 non-null  object \n",
      " 23  propertyTitle       19110 non-null  object \n",
      " 24  propertyType        19110 non-null  object \n",
      " 25  property_age        19110 non-null  int64  \n",
      " 26  property_size       19110 non-null  int64  \n",
      " 27  reactivationSource  9194 non-null   object \n",
      " 28  rent_amount         19110 non-null  int64  \n",
      " 29  sharedAccomodation  19110 non-null  bool   \n",
      " 30  shortUrl            19110 non-null  object \n",
      " 31  swimmingPool        19110 non-null  bool   \n",
      " 32  totalFloor          19110 non-null  int64  \n",
      " 33  type_bhk            19110 non-null  object \n",
      " 34  waterSupply         9886 non-null   object \n",
      " 35  weight              0 non-null      float64\n",
      "dtypes: bool(7), float64(4), int64(7), object(18)\n",
      "memory usage: 4.4+ MB\n"
     ]
    }
   ],
   "source": [
    "# peeking the dataset\n",
    "df = pd.read_csv('hyd_v2.csv')\n",
    "df.info()"
   ]
  },
  {
   "cell_type": "code",
   "execution_count": 3,
   "metadata": {},
   "outputs": [
    {
     "data": {
      "text/plain": [
       "active                    0\n",
       "amenities               172\n",
       "balconies              9536\n",
       "bathroom                  0\n",
       "combineDescription    19110\n",
       "completeStreetName        2\n",
       "deposit                   0\n",
       "facing                 9541\n",
       "facingDesc             9541\n",
       "floor                     0\n",
       "furnishingDesc            0\n",
       "gym                       0\n",
       "id                        0\n",
       "isMaintenance             0\n",
       "lift                      0\n",
       "loanAvailable             0\n",
       "locality                  6\n",
       "localityId                0\n",
       "location                  0\n",
       "maintenanceAmount      9658\n",
       "ownerName                 1\n",
       "parking                   0\n",
       "parkingDesc             950\n",
       "propertyTitle             0\n",
       "propertyType              0\n",
       "property_age              0\n",
       "property_size             0\n",
       "reactivationSource     9916\n",
       "rent_amount               0\n",
       "sharedAccomodation        0\n",
       "shortUrl                  0\n",
       "swimmingPool              0\n",
       "totalFloor                0\n",
       "type_bhk                  0\n",
       "waterSupply            9224\n",
       "weight                19110\n",
       "dtype: int64"
      ]
     },
     "execution_count": 3,
     "metadata": {},
     "output_type": "execute_result"
    }
   ],
   "source": [
    "df.isnull().sum()"
   ]
  },
  {
   "cell_type": "code",
   "execution_count": 5,
   "metadata": {},
   "outputs": [
    {
     "name": "stdout",
     "output_type": "stream",
     "text": [
      "<class 'pandas.core.frame.DataFrame'>\n",
      "RangeIndex: 19110 entries, 0 to 19109\n",
      "Data columns (total 29 columns):\n",
      " #   Column              Non-Null Count  Dtype \n",
      "---  ------              --------------  ----- \n",
      " 0   active              19110 non-null  bool  \n",
      " 1   amenities           18938 non-null  object\n",
      " 2   bathroom            19110 non-null  int64 \n",
      " 3   completeStreetName  19108 non-null  object\n",
      " 4   deposit             19110 non-null  int64 \n",
      " 5   floor               19110 non-null  int64 \n",
      " 6   furnishingDesc      19110 non-null  object\n",
      " 7   gym                 19110 non-null  bool  \n",
      " 8   id                  19110 non-null  object\n",
      " 9   isMaintenance       19110 non-null  bool  \n",
      " 10  lift                19110 non-null  bool  \n",
      " 11  loanAvailable       19110 non-null  bool  \n",
      " 12  locality            19104 non-null  object\n",
      " 13  localityId          19110 non-null  object\n",
      " 14  location            19110 non-null  object\n",
      " 15  ownerName           19109 non-null  object\n",
      " 16  parking             19110 non-null  object\n",
      " 17  parkingDesc         18160 non-null  object\n",
      " 18  propertyTitle       19110 non-null  object\n",
      " 19  propertyType        19110 non-null  object\n",
      " 20  property_age        19110 non-null  int64 \n",
      " 21  property_size       19110 non-null  int64 \n",
      " 22  reactivationSource  9194 non-null   object\n",
      " 23  rent_amount         19110 non-null  int64 \n",
      " 24  sharedAccomodation  19110 non-null  bool  \n",
      " 25  shortUrl            19110 non-null  object\n",
      " 26  swimmingPool        19110 non-null  bool  \n",
      " 27  totalFloor          19110 non-null  int64 \n",
      " 28  type_bhk            19110 non-null  object\n",
      "dtypes: bool(7), int64(7), object(15)\n",
      "memory usage: 3.3+ MB\n"
     ]
    }
   ],
   "source": [
    "df = df.drop(['balconies', 'combineDescription', 'facing', 'facingDesc', 'maintenanceAmount', 'waterSupply', 'weight'], axis=1)\n",
    "df.info()"
   ]
  },
  {
   "cell_type": "code",
   "execution_count": 7,
   "metadata": {},
   "outputs": [
    {
     "data": {
      "text/plain": [
       "reactivationSource    9916\n",
       "parkingDesc            950\n",
       "amenities              172\n",
       "locality                 6\n",
       "completeStreetName       2\n",
       "ownerName                1\n",
       "active                   0\n",
       "totalFloor               0\n",
       "swimmingPool             0\n",
       "shortUrl                 0\n",
       "sharedAccomodation       0\n",
       "rent_amount              0\n",
       "property_size            0\n",
       "property_age             0\n",
       "propertyType             0\n",
       "propertyTitle            0\n",
       "location                 0\n",
       "parking                  0\n",
       "localityId               0\n",
       "loanAvailable            0\n",
       "lift                     0\n",
       "isMaintenance            0\n",
       "id                       0\n",
       "gym                      0\n",
       "furnishingDesc           0\n",
       "floor                    0\n",
       "deposit                  0\n",
       "bathroom                 0\n",
       "type_bhk                 0\n",
       "dtype: int64"
      ]
     },
     "execution_count": 7,
     "metadata": {},
     "output_type": "execute_result"
    }
   ],
   "source": [
    "df.isnull().sum().sort_values(ascending=False)"
   ]
  },
  {
   "cell_type": "code",
   "execution_count": 13,
   "metadata": {},
   "outputs": [
    {
     "data": {
      "text/plain": [
       "count            18160\n",
       "unique               3\n",
       "top       Bike and Car\n",
       "freq              9599\n",
       "Name: parkingDesc, dtype: object"
      ]
     },
     "execution_count": 13,
     "metadata": {},
     "output_type": "execute_result"
    }
   ],
   "source": [
    "df['parkingDesc'].describe()"
   ]
  },
  {
   "cell_type": "code",
   "execution_count": 14,
   "metadata": {},
   "outputs": [
    {
     "data": {
      "text/plain": [
       "count            19110\n",
       "unique               3\n",
       "top       Bike and Car\n",
       "freq             10549\n",
       "Name: parkingDesc, dtype: object"
      ]
     },
     "execution_count": 14,
     "metadata": {},
     "output_type": "execute_result"
    }
   ],
   "source": [
    "df['parkingDesc'] = df['parkingDesc'].fillna(df['parkingDesc'].mode()[0])\n",
    "df['parkingDesc'].describe()"
   ]
  },
  {
   "cell_type": "code",
   "execution_count": 15,
   "metadata": {},
   "outputs": [
    {
     "data": {
      "text/plain": [
       "amenities             172\n",
       "locality                6\n",
       "completeStreetName      2\n",
       "ownerName               1\n",
       "active                  0\n",
       "parking                 0\n",
       "totalFloor              0\n",
       "swimmingPool            0\n",
       "shortUrl                0\n",
       "sharedAccomodation      0\n",
       "rent_amount             0\n",
       "property_size           0\n",
       "property_age            0\n",
       "propertyType            0\n",
       "propertyTitle           0\n",
       "parkingDesc             0\n",
       "location                0\n",
       "localityId              0\n",
       "loanAvailable           0\n",
       "lift                    0\n",
       "isMaintenance           0\n",
       "id                      0\n",
       "gym                     0\n",
       "furnishingDesc          0\n",
       "floor                   0\n",
       "deposit                 0\n",
       "bathroom                0\n",
       "type_bhk                0\n",
       "dtype: int64"
      ]
     },
     "execution_count": 15,
     "metadata": {},
     "output_type": "execute_result"
    }
   ],
   "source": [
    "df.isnull().sum().sort_values(ascending=False)"
   ]
  },
  {
   "cell_type": "code",
   "execution_count": 16,
   "metadata": {},
   "outputs": [
    {
     "data": {
      "text/plain": [
       "count                                                 18938\n",
       "unique                                                 3383\n",
       "top       {\"LIFT\":false,\"GYM\":false,\"INTERNET\":false,\"AC...\n",
       "freq                                                   6464\n",
       "Name: amenities, dtype: object"
      ]
     },
     "execution_count": 16,
     "metadata": {},
     "output_type": "execute_result"
    }
   ],
   "source": [
    "df['amenities'].describe()"
   ]
  },
  {
   "cell_type": "code",
   "execution_count": 17,
   "metadata": {},
   "outputs": [
    {
     "data": {
      "text/plain": [
       "'{\"LIFT\":true,\"GYM\":false,\"INTERNET\":false,\"AC\":false,\"CLUB\":false,\"INTERCOM\":false,\"POOL\":false,\"CPA\":true,\"FS\":false,\"SERVANT\":false,\"SECURITY\":true,\"SC\":false,\"GP\":false,\"PARK\":false,\"RWH\":true,\"STP\":false,\"HK\":false,\"PB\":true,\"VP\":true}'"
      ]
     },
     "execution_count": 17,
     "metadata": {},
     "output_type": "execute_result"
    }
   ],
   "source": [
    "df['amenities'].iloc[0]"
   ]
  },
  {
   "cell_type": "code",
   "execution_count": 19,
   "metadata": {},
   "outputs": [],
   "source": [
    "import pandas as pd\n",
    "import json\n",
    "\n",
    "def parse_json(column_value):\n",
    "    try:\n",
    "        if pd.notna(column_value):\n",
    "            return json.loads(str(column_value).replace(\"'\", \"\\\"\"))\n",
    "        else:\n",
    "            return None\n",
    "    except json.JSONDecodeError:\n",
    "        return None\n",
    "\n",
    "df['amenities'] = df['amenities'].apply(parse_json)\n",
    "\n",
    "amenities_df = pd.json_normalize(df['amenities'])\n",
    "df = pd.concat([df, amenities_df], axis=1).drop('amenities', axis=1)"
   ]
  },
  {
   "cell_type": "code",
   "execution_count": 21,
   "metadata": {},
   "outputs": [
    {
     "data": {
      "text/plain": [
       "Index(['active', 'bathroom', 'completeStreetName', 'deposit', 'floor',\n",
       "       'furnishingDesc', 'gym', 'id', 'isMaintenance', 'lift', 'loanAvailable',\n",
       "       'locality', 'localityId', 'location', 'ownerName', 'parking',\n",
       "       'parkingDesc', 'propertyTitle', 'propertyType', 'property_age',\n",
       "       'property_size', 'rent_amount', 'sharedAccomodation', 'shortUrl',\n",
       "       'swimmingPool', 'totalFloor', 'type_bhk', 'LIFT', 'GYM', 'INTERNET',\n",
       "       'AC', 'CLUB', 'INTERCOM', 'POOL', 'CPA', 'FS', 'SERVANT', 'SECURITY',\n",
       "       'SC', 'GP', 'PARK', 'RWH', 'STP', 'HK', 'PB', 'VP'],\n",
       "      dtype='object')"
      ]
     },
     "execution_count": 21,
     "metadata": {},
     "output_type": "execute_result"
    }
   ],
   "source": [
    "df.columns"
   ]
  },
  {
   "cell_type": "code",
   "execution_count": 22,
   "metadata": {},
   "outputs": [
    {
     "data": {
      "text/plain": [
       "SERVANT               514\n",
       "GP                    514\n",
       "RWH                   506\n",
       "CLUB                  506\n",
       "CPA                   506\n",
       "VP                    506\n",
       "STP                   506\n",
       "SECURITY              320\n",
       "HK                    180\n",
       "SC                    180\n",
       "AC                    180\n",
       "POOL                  172\n",
       "LIFT                  172\n",
       "GYM                   172\n",
       "INTERNET              172\n",
       "INTERCOM              172\n",
       "PB                    172\n",
       "PARK                  172\n",
       "FS                    172\n",
       "locality                6\n",
       "completeStreetName      2\n",
       "ownerName               1\n",
       "totalFloor              0\n",
       "type_bhk                0\n",
       "active                  0\n",
       "swimmingPool            0\n",
       "localityId              0\n",
       "deposit                 0\n",
       "floor                   0\n",
       "furnishingDesc          0\n",
       "gym                     0\n",
       "id                      0\n",
       "isMaintenance           0\n",
       "lift                    0\n",
       "loanAvailable           0\n",
       "location                0\n",
       "bathroom                0\n",
       "parking                 0\n",
       "parkingDesc             0\n",
       "propertyTitle           0\n",
       "propertyType            0\n",
       "property_age            0\n",
       "property_size           0\n",
       "rent_amount             0\n",
       "sharedAccomodation      0\n",
       "shortUrl                0\n",
       "dtype: int64"
      ]
     },
     "execution_count": 22,
     "metadata": {},
     "output_type": "execute_result"
    }
   ],
   "source": [
    "df.isnull().sum().sort_values(ascending=False)"
   ]
  },
  {
   "cell_type": "code",
   "execution_count": 23,
   "metadata": {},
   "outputs": [
    {
     "name": "stdout",
     "output_type": "stream",
     "text": [
      "<class 'pandas.core.frame.DataFrame'>\n",
      "RangeIndex: 19110 entries, 0 to 19109\n",
      "Data columns (total 46 columns):\n",
      " #   Column              Non-Null Count  Dtype \n",
      "---  ------              --------------  ----- \n",
      " 0   active              19110 non-null  bool  \n",
      " 1   bathroom            19110 non-null  int64 \n",
      " 2   completeStreetName  19108 non-null  object\n",
      " 3   deposit             19110 non-null  int64 \n",
      " 4   floor               19110 non-null  int64 \n",
      " 5   furnishingDesc      19110 non-null  object\n",
      " 6   gym                 19110 non-null  bool  \n",
      " 7   id                  19110 non-null  object\n",
      " 8   isMaintenance       19110 non-null  bool  \n",
      " 9   lift                19110 non-null  bool  \n",
      " 10  loanAvailable       19110 non-null  bool  \n",
      " 11  locality            19104 non-null  object\n",
      " 12  localityId          19110 non-null  object\n",
      " 13  location            19110 non-null  object\n",
      " 14  ownerName           19109 non-null  object\n",
      " 15  parking             19110 non-null  object\n",
      " 16  parkingDesc         19110 non-null  object\n",
      " 17  propertyTitle       19110 non-null  object\n",
      " 18  propertyType        19110 non-null  object\n",
      " 19  property_age        19110 non-null  int64 \n",
      " 20  property_size       19110 non-null  int64 \n",
      " 21  rent_amount         19110 non-null  int64 \n",
      " 22  sharedAccomodation  19110 non-null  bool  \n",
      " 23  shortUrl            19110 non-null  object\n",
      " 24  swimmingPool        19110 non-null  bool  \n",
      " 25  totalFloor          19110 non-null  int64 \n",
      " 26  type_bhk            19110 non-null  object\n",
      " 27  LIFT                18938 non-null  object\n",
      " 28  GYM                 18938 non-null  object\n",
      " 29  INTERNET            18938 non-null  object\n",
      " 30  AC                  18930 non-null  object\n",
      " 31  CLUB                18604 non-null  object\n",
      " 32  INTERCOM            18938 non-null  object\n",
      " 33  POOL                18938 non-null  object\n",
      " 34  CPA                 18604 non-null  object\n",
      " 35  FS                  18938 non-null  object\n",
      " 36  SERVANT             18596 non-null  object\n",
      " 37  SECURITY            18790 non-null  object\n",
      " 38  SC                  18930 non-null  object\n",
      " 39  GP                  18596 non-null  object\n",
      " 40  PARK                18938 non-null  object\n",
      " 41  RWH                 18604 non-null  object\n",
      " 42  STP                 18604 non-null  object\n",
      " 43  HK                  18930 non-null  object\n",
      " 44  PB                  18938 non-null  object\n",
      " 45  VP                  18604 non-null  object\n",
      "dtypes: bool(7), int64(7), object(32)\n",
      "memory usage: 5.8+ MB\n"
     ]
    }
   ],
   "source": [
    "df.info()"
   ]
  },
  {
   "cell_type": "code",
   "execution_count": 27,
   "metadata": {},
   "outputs": [
    {
     "name": "stdout",
     "output_type": "stream",
     "text": [
      "Categorical Columns:\n",
      "['LIFT', 'GYM', 'INTERNET', 'AC', 'CLUB', 'INTERCOM', 'POOL', 'CPA', 'FS', 'SERVANT', 'SECURITY', 'SC', 'GP', 'PARK', 'RWH', 'STP', 'HK', 'PB', 'VP']\n"
     ]
    }
   ],
   "source": [
    "# Assuming amenities_df is the DataFrame containing the amenities columns\n",
    "categorical_columns = []\n",
    "\n",
    "for column in amenities_df.columns:\n",
    "    unique_values = amenities_df[column].unique()\n",
    "    \n",
    "    if len(unique_values) <= 10:  # Adjust the threshold as needed\n",
    "        categorical_columns.append(column)\n",
    "\n",
    "print(\"Categorical Columns:\")\n",
    "print(categorical_columns)"
   ]
  },
  {
   "cell_type": "code",
   "execution_count": 30,
   "metadata": {},
   "outputs": [
    {
     "data": {
      "text/plain": [
       "locality              6\n",
       "completeStreetName    2\n",
       "ownerName             1\n",
       "active                0\n",
       "FS                    0\n",
       "LIFT                  0\n",
       "GYM                   0\n",
       "INTERNET              0\n",
       "AC                    0\n",
       "CLUB                  0\n",
       "INTERCOM              0\n",
       "POOL                  0\n",
       "CPA                   0\n",
       "SERVANT               0\n",
       "totalFloor            0\n",
       "SECURITY              0\n",
       "SC                    0\n",
       "GP                    0\n",
       "PARK                  0\n",
       "RWH                   0\n",
       "STP                   0\n",
       "HK                    0\n",
       "PB                    0\n",
       "type_bhk              0\n",
       "shortUrl              0\n",
       "swimmingPool          0\n",
       "localityId            0\n",
       "deposit               0\n",
       "floor                 0\n",
       "furnishingDesc        0\n",
       "gym                   0\n",
       "id                    0\n",
       "isMaintenance         0\n",
       "lift                  0\n",
       "loanAvailable         0\n",
       "location              0\n",
       "bathroom              0\n",
       "parking               0\n",
       "parkingDesc           0\n",
       "propertyTitle         0\n",
       "propertyType          0\n",
       "property_age          0\n",
       "property_size         0\n",
       "rent_amount           0\n",
       "sharedAccomodation    0\n",
       "VP                    0\n",
       "dtype: int64"
      ]
     },
     "execution_count": 30,
     "metadata": {},
     "output_type": "execute_result"
    }
   ],
   "source": [
    "for column in categorical_columns:\n",
    "    df[column].fillna(df[column].mode()[0], inplace=True)\n",
    "\n",
    "df.isnull().sum().sort_values(ascending=False)"
   ]
  },
  {
   "cell_type": "code",
   "execution_count": 31,
   "metadata": {},
   "outputs": [
    {
     "data": {
      "text/plain": [
       "count          19104\n",
       "unique          2638\n",
       "top       Kukatpally\n",
       "freq            1525\n",
       "Name: locality, dtype: object"
      ]
     },
     "execution_count": 31,
     "metadata": {},
     "output_type": "execute_result"
    }
   ],
   "source": [
    "df['locality'].describe()"
   ]
  },
  {
   "cell_type": "code",
   "execution_count": 32,
   "metadata": {},
   "outputs": [
    {
     "data": {
      "text/plain": [
       "completeStreetName    2\n",
       "active                0\n",
       "FS                    0\n",
       "type_bhk              0\n",
       "LIFT                  0\n",
       "GYM                   0\n",
       "INTERNET              0\n",
       "AC                    0\n",
       "CLUB                  0\n",
       "INTERCOM              0\n",
       "POOL                  0\n",
       "CPA                   0\n",
       "SERVANT               0\n",
       "swimmingPool          0\n",
       "SECURITY              0\n",
       "SC                    0\n",
       "GP                    0\n",
       "PARK                  0\n",
       "RWH                   0\n",
       "STP                   0\n",
       "HK                    0\n",
       "PB                    0\n",
       "totalFloor            0\n",
       "shortUrl              0\n",
       "bathroom              0\n",
       "locality              0\n",
       "deposit               0\n",
       "floor                 0\n",
       "furnishingDesc        0\n",
       "gym                   0\n",
       "id                    0\n",
       "isMaintenance         0\n",
       "lift                  0\n",
       "loanAvailable         0\n",
       "localityId            0\n",
       "sharedAccomodation    0\n",
       "location              0\n",
       "parking               0\n",
       "parkingDesc           0\n",
       "propertyTitle         0\n",
       "propertyType          0\n",
       "property_age          0\n",
       "property_size         0\n",
       "rent_amount           0\n",
       "VP                    0\n",
       "dtype: int64"
      ]
     },
     "execution_count": 32,
     "metadata": {},
     "output_type": "execute_result"
    }
   ],
   "source": [
    "df['locality'] = df['locality'].fillna(df['locality'].mode()[0])\n",
    "df = df.drop(columns=['ownerName'])\n",
    "df.isnull().sum().sort_values(ascending=False)"
   ]
  },
  {
   "cell_type": "code",
   "execution_count": 33,
   "metadata": {},
   "outputs": [
    {
     "data": {
      "text/plain": [
       "count                                                 19108\n",
       "unique                                                15559\n",
       "top       ISB Road, Wipro Junction, Gachibowli Financial...\n",
       "freq                                                     48\n",
       "Name: completeStreetName, dtype: object"
      ]
     },
     "execution_count": 33,
     "metadata": {},
     "output_type": "execute_result"
    }
   ],
   "source": [
    "df['completeStreetName'].describe()"
   ]
  },
  {
   "cell_type": "code",
   "execution_count": 34,
   "metadata": {},
   "outputs": [
    {
     "name": "stdout",
     "output_type": "stream",
     "text": [
      "<class 'pandas.core.frame.DataFrame'>\n",
      "RangeIndex: 19110 entries, 0 to 19109\n",
      "Data columns (total 45 columns):\n",
      " #   Column              Non-Null Count  Dtype \n",
      "---  ------              --------------  ----- \n",
      " 0   active              19110 non-null  bool  \n",
      " 1   bathroom            19110 non-null  int64 \n",
      " 2   completeStreetName  19110 non-null  object\n",
      " 3   deposit             19110 non-null  int64 \n",
      " 4   floor               19110 non-null  int64 \n",
      " 5   furnishingDesc      19110 non-null  object\n",
      " 6   gym                 19110 non-null  bool  \n",
      " 7   id                  19110 non-null  object\n",
      " 8   isMaintenance       19110 non-null  bool  \n",
      " 9   lift                19110 non-null  bool  \n",
      " 10  loanAvailable       19110 non-null  bool  \n",
      " 11  locality            19110 non-null  object\n",
      " 12  localityId          19110 non-null  object\n",
      " 13  location            19110 non-null  object\n",
      " 14  parking             19110 non-null  object\n",
      " 15  parkingDesc         19110 non-null  object\n",
      " 16  propertyTitle       19110 non-null  object\n",
      " 17  propertyType        19110 non-null  object\n",
      " 18  property_age        19110 non-null  int64 \n",
      " 19  property_size       19110 non-null  int64 \n",
      " 20  rent_amount         19110 non-null  int64 \n",
      " 21  sharedAccomodation  19110 non-null  bool  \n",
      " 22  shortUrl            19110 non-null  object\n",
      " 23  swimmingPool        19110 non-null  bool  \n",
      " 24  totalFloor          19110 non-null  int64 \n",
      " 25  type_bhk            19110 non-null  object\n",
      " 26  LIFT                19110 non-null  bool  \n",
      " 27  GYM                 19110 non-null  bool  \n",
      " 28  INTERNET            19110 non-null  bool  \n",
      " 29  AC                  19110 non-null  bool  \n",
      " 30  CLUB                19110 non-null  bool  \n",
      " 31  INTERCOM            19110 non-null  bool  \n",
      " 32  POOL                19110 non-null  bool  \n",
      " 33  CPA                 19110 non-null  bool  \n",
      " 34  FS                  19110 non-null  bool  \n",
      " 35  SERVANT             19110 non-null  bool  \n",
      " 36  SECURITY            19110 non-null  bool  \n",
      " 37  SC                  19110 non-null  bool  \n",
      " 38  GP                  19110 non-null  bool  \n",
      " 39  PARK                19110 non-null  bool  \n",
      " 40  RWH                 19110 non-null  bool  \n",
      " 41  STP                 19110 non-null  bool  \n",
      " 42  HK                  19110 non-null  bool  \n",
      " 43  PB                  19110 non-null  bool  \n",
      " 44  VP                  19110 non-null  bool  \n",
      "dtypes: bool(26), int64(7), object(12)\n",
      "memory usage: 3.2+ MB\n"
     ]
    }
   ],
   "source": [
    "df['completeStreetName'] = df['completeStreetName'].fillna(df['completeStreetName'].mode()[0])\n",
    "df.info()"
   ]
  },
  {
   "cell_type": "code",
   "execution_count": 37,
   "metadata": {},
   "outputs": [
    {
     "data": {
      "text/html": [
       "<div>\n",
       "<style scoped>\n",
       "    .dataframe tbody tr th:only-of-type {\n",
       "        vertical-align: middle;\n",
       "    }\n",
       "\n",
       "    .dataframe tbody tr th {\n",
       "        vertical-align: top;\n",
       "    }\n",
       "\n",
       "    .dataframe thead th {\n",
       "        text-align: right;\n",
       "    }\n",
       "</style>\n",
       "<table border=\"1\" class=\"dataframe\">\n",
       "  <thead>\n",
       "    <tr style=\"text-align: right;\">\n",
       "      <th></th>\n",
       "      <th>active</th>\n",
       "      <th>bathroom</th>\n",
       "      <th>completeStreetName</th>\n",
       "      <th>deposit</th>\n",
       "      <th>floor</th>\n",
       "      <th>furnishingDesc</th>\n",
       "      <th>gym</th>\n",
       "      <th>id</th>\n",
       "      <th>isMaintenance</th>\n",
       "      <th>lift</th>\n",
       "      <th>loanAvailable</th>\n",
       "      <th>locality</th>\n",
       "      <th>localityId</th>\n",
       "      <th>location</th>\n",
       "      <th>parking</th>\n",
       "      <th>parkingDesc</th>\n",
       "      <th>propertyTitle</th>\n",
       "      <th>propertyType</th>\n",
       "      <th>property_age</th>\n",
       "      <th>property_size</th>\n",
       "      <th>rent_amount</th>\n",
       "      <th>sharedAccomodation</th>\n",
       "      <th>shortUrl</th>\n",
       "      <th>swimmingPool</th>\n",
       "      <th>totalFloor</th>\n",
       "      <th>type_bhk</th>\n",
       "      <th>LIFT</th>\n",
       "      <th>GYM</th>\n",
       "      <th>INTERNET</th>\n",
       "      <th>AC</th>\n",
       "      <th>CLUB</th>\n",
       "      <th>INTERCOM</th>\n",
       "      <th>POOL</th>\n",
       "      <th>CPA</th>\n",
       "      <th>FS</th>\n",
       "      <th>SERVANT</th>\n",
       "      <th>SECURITY</th>\n",
       "      <th>SC</th>\n",
       "      <th>GP</th>\n",
       "      <th>PARK</th>\n",
       "      <th>RWH</th>\n",
       "      <th>STP</th>\n",
       "      <th>HK</th>\n",
       "      <th>PB</th>\n",
       "      <th>VP</th>\n",
       "    </tr>\n",
       "  </thead>\n",
       "  <tbody>\n",
       "    <tr>\n",
       "      <th>0</th>\n",
       "      <td>True</td>\n",
       "      <td>3</td>\n",
       "      <td>Shreya carnation, Block I, NCB Enclave, Gachib...</td>\n",
       "      <td>90000</td>\n",
       "      <td>3</td>\n",
       "      <td>Semi</td>\n",
       "      <td>False</td>\n",
       "      <td>8a9fa082775d477e0177610b187423b9</td>\n",
       "      <td>True</td>\n",
       "      <td>True</td>\n",
       "      <td>True</td>\n",
       "      <td>Gachibowli</td>\n",
       "      <td>gachibowli_hyderabad</td>\n",
       "      <td>17.465080245131944000,78.340134322090170000</td>\n",
       "      <td>BOTH</td>\n",
       "      <td>Bike and Car</td>\n",
       "      <td>3 BHK For Rent in Shreya Carnation, Gachibowli</td>\n",
       "      <td>RENT</td>\n",
       "      <td>5</td>\n",
       "      <td>2200</td>\n",
       "      <td>28000</td>\n",
       "      <td>False</td>\n",
       "      <td>http://nobr.kr/sv/9Kvqj</td>\n",
       "      <td>False</td>\n",
       "      <td>5</td>\n",
       "      <td>BHK3</td>\n",
       "      <td>True</td>\n",
       "      <td>False</td>\n",
       "      <td>False</td>\n",
       "      <td>False</td>\n",
       "      <td>False</td>\n",
       "      <td>False</td>\n",
       "      <td>False</td>\n",
       "      <td>True</td>\n",
       "      <td>False</td>\n",
       "      <td>False</td>\n",
       "      <td>True</td>\n",
       "      <td>False</td>\n",
       "      <td>False</td>\n",
       "      <td>False</td>\n",
       "      <td>True</td>\n",
       "      <td>False</td>\n",
       "      <td>False</td>\n",
       "      <td>True</td>\n",
       "      <td>True</td>\n",
       "    </tr>\n",
       "    <tr>\n",
       "      <th>1</th>\n",
       "      <td>True</td>\n",
       "      <td>2</td>\n",
       "      <td>Inner Ring Rd,  near RTO Bandlaguda South Zone</td>\n",
       "      <td>45000</td>\n",
       "      <td>2</td>\n",
       "      <td>Unfurnished</td>\n",
       "      <td>False</td>\n",
       "      <td>ff8081816ba1baad016ba23a96591bb5</td>\n",
       "      <td>False</td>\n",
       "      <td>False</td>\n",
       "      <td>True</td>\n",
       "      <td>Chandrayangutta</td>\n",
       "      <td>chandrayangutta_hyderabad</td>\n",
       "      <td>17.320233889090165000,78.467765880356640000</td>\n",
       "      <td>TWO_WHEELER</td>\n",
       "      <td>Bike</td>\n",
       "      <td>3 BHK For Rent in Chandrayangutta</td>\n",
       "      <td>RENT</td>\n",
       "      <td>1</td>\n",
       "      <td>1200</td>\n",
       "      <td>15000</td>\n",
       "      <td>False</td>\n",
       "      <td>http://nobr.kr/sv/j2pD6</td>\n",
       "      <td>False</td>\n",
       "      <td>2</td>\n",
       "      <td>BHK3</td>\n",
       "      <td>False</td>\n",
       "      <td>False</td>\n",
       "      <td>False</td>\n",
       "      <td>False</td>\n",
       "      <td>False</td>\n",
       "      <td>False</td>\n",
       "      <td>False</td>\n",
       "      <td>False</td>\n",
       "      <td>False</td>\n",
       "      <td>False</td>\n",
       "      <td>False</td>\n",
       "      <td>False</td>\n",
       "      <td>False</td>\n",
       "      <td>False</td>\n",
       "      <td>False</td>\n",
       "      <td>True</td>\n",
       "      <td>False</td>\n",
       "      <td>False</td>\n",
       "      <td>False</td>\n",
       "    </tr>\n",
       "    <tr>\n",
       "      <th>2</th>\n",
       "      <td>True</td>\n",
       "      <td>3</td>\n",
       "      <td>Rd Number 2, Shirdi Sai Nagar, Manikonda, Hyde...</td>\n",
       "      <td>80000</td>\n",
       "      <td>0</td>\n",
       "      <td>Semi</td>\n",
       "      <td>True</td>\n",
       "      <td>8a9f80f170de62150170e23c1db35ae0</td>\n",
       "      <td>True</td>\n",
       "      <td>True</td>\n",
       "      <td>True</td>\n",
       "      <td>Manikonda</td>\n",
       "      <td>manikonda_hyderabad</td>\n",
       "      <td>17.403649100000000000,78.379442099999990000</td>\n",
       "      <td>BOTH</td>\n",
       "      <td>Bike and Car</td>\n",
       "      <td>3 BHK For Rent in Amrutha Avenue, Manikonda</td>\n",
       "      <td>RENT</td>\n",
       "      <td>0</td>\n",
       "      <td>1800</td>\n",
       "      <td>16000</td>\n",
       "      <td>False</td>\n",
       "      <td>http://nobr.kr/sv/TXJmj</td>\n",
       "      <td>False</td>\n",
       "      <td>3</td>\n",
       "      <td>BHK3</td>\n",
       "      <td>True</td>\n",
       "      <td>True</td>\n",
       "      <td>False</td>\n",
       "      <td>False</td>\n",
       "      <td>False</td>\n",
       "      <td>False</td>\n",
       "      <td>False</td>\n",
       "      <td>False</td>\n",
       "      <td>False</td>\n",
       "      <td>True</td>\n",
       "      <td>True</td>\n",
       "      <td>False</td>\n",
       "      <td>False</td>\n",
       "      <td>False</td>\n",
       "      <td>True</td>\n",
       "      <td>False</td>\n",
       "      <td>False</td>\n",
       "      <td>True</td>\n",
       "      <td>True</td>\n",
       "    </tr>\n",
       "  </tbody>\n",
       "</table>\n",
       "</div>"
      ],
      "text/plain": [
       "   active  bathroom                                 completeStreetName  \\\n",
       "0    True         3  Shreya carnation, Block I, NCB Enclave, Gachib...   \n",
       "1    True         2     Inner Ring Rd,  near RTO Bandlaguda South Zone   \n",
       "2    True         3  Rd Number 2, Shirdi Sai Nagar, Manikonda, Hyde...   \n",
       "\n",
       "   deposit  floor furnishingDesc    gym                                id  \\\n",
       "0    90000      3           Semi  False  8a9fa082775d477e0177610b187423b9   \n",
       "1    45000      2    Unfurnished  False  ff8081816ba1baad016ba23a96591bb5   \n",
       "2    80000      0           Semi   True  8a9f80f170de62150170e23c1db35ae0   \n",
       "\n",
       "   isMaintenance   lift  loanAvailable         locality  \\\n",
       "0           True   True           True       Gachibowli   \n",
       "1          False  False           True  Chandrayangutta   \n",
       "2           True   True           True        Manikonda   \n",
       "\n",
       "                  localityId                                     location  \\\n",
       "0       gachibowli_hyderabad  17.465080245131944000,78.340134322090170000   \n",
       "1  chandrayangutta_hyderabad  17.320233889090165000,78.467765880356640000   \n",
       "2        manikonda_hyderabad  17.403649100000000000,78.379442099999990000   \n",
       "\n",
       "       parking   parkingDesc                                   propertyTitle  \\\n",
       "0         BOTH  Bike and Car  3 BHK For Rent in Shreya Carnation, Gachibowli   \n",
       "1  TWO_WHEELER          Bike               3 BHK For Rent in Chandrayangutta   \n",
       "2         BOTH  Bike and Car     3 BHK For Rent in Amrutha Avenue, Manikonda   \n",
       "\n",
       "  propertyType  property_age  property_size  rent_amount  sharedAccomodation  \\\n",
       "0         RENT             5           2200        28000               False   \n",
       "1         RENT             1           1200        15000               False   \n",
       "2         RENT             0           1800        16000               False   \n",
       "\n",
       "                  shortUrl  swimmingPool  totalFloor type_bhk   LIFT    GYM  \\\n",
       "0  http://nobr.kr/sv/9Kvqj         False           5     BHK3   True  False   \n",
       "1  http://nobr.kr/sv/j2pD6         False           2     BHK3  False  False   \n",
       "2  http://nobr.kr/sv/TXJmj         False           3     BHK3   True   True   \n",
       "\n",
       "   INTERNET     AC   CLUB  INTERCOM   POOL    CPA     FS  SERVANT  SECURITY  \\\n",
       "0     False  False  False     False  False   True  False    False      True   \n",
       "1     False  False  False     False  False  False  False    False     False   \n",
       "2     False  False  False     False  False  False  False     True      True   \n",
       "\n",
       "      SC     GP   PARK    RWH    STP     HK     PB     VP  \n",
       "0  False  False  False   True  False  False   True   True  \n",
       "1  False  False  False  False   True  False  False  False  \n",
       "2  False  False  False   True  False  False   True   True  "
      ]
     },
     "execution_count": 37,
     "metadata": {},
     "output_type": "execute_result"
    }
   ],
   "source": [
    "df.head(3)"
   ]
  },
  {
   "cell_type": "code",
   "execution_count": 38,
   "metadata": {},
   "outputs": [
    {
     "name": "stdout",
     "output_type": "stream",
     "text": [
      "<class 'pandas.core.frame.DataFrame'>\n",
      "RangeIndex: 19110 entries, 0 to 19109\n",
      "Data columns (total 39 columns):\n",
      " #   Column              Non-Null Count  Dtype \n",
      "---  ------              --------------  ----- \n",
      " 0   active              19110 non-null  bool  \n",
      " 1   bathroom            19110 non-null  int64 \n",
      " 2   deposit             19110 non-null  int64 \n",
      " 3   floor               19110 non-null  int64 \n",
      " 4   furnishingDesc      19110 non-null  object\n",
      " 5   gym                 19110 non-null  bool  \n",
      " 6   isMaintenance       19110 non-null  bool  \n",
      " 7   lift                19110 non-null  bool  \n",
      " 8   loanAvailable       19110 non-null  bool  \n",
      " 9   locality            19110 non-null  object\n",
      " 10  location            19110 non-null  object\n",
      " 11  parking             19110 non-null  object\n",
      " 12  propertyType        19110 non-null  object\n",
      " 13  property_age        19110 non-null  int64 \n",
      " 14  property_size       19110 non-null  int64 \n",
      " 15  rent_amount         19110 non-null  int64 \n",
      " 16  sharedAccomodation  19110 non-null  bool  \n",
      " 17  swimmingPool        19110 non-null  bool  \n",
      " 18  totalFloor          19110 non-null  int64 \n",
      " 19  type_bhk            19110 non-null  object\n",
      " 20  LIFT                19110 non-null  bool  \n",
      " 21  GYM                 19110 non-null  bool  \n",
      " 22  INTERNET            19110 non-null  bool  \n",
      " 23  AC                  19110 non-null  bool  \n",
      " 24  CLUB                19110 non-null  bool  \n",
      " 25  INTERCOM            19110 non-null  bool  \n",
      " 26  POOL                19110 non-null  bool  \n",
      " 27  CPA                 19110 non-null  bool  \n",
      " 28  FS                  19110 non-null  bool  \n",
      " 29  SERVANT             19110 non-null  bool  \n",
      " 30  SECURITY            19110 non-null  bool  \n",
      " 31  SC                  19110 non-null  bool  \n",
      " 32  GP                  19110 non-null  bool  \n",
      " 33  PARK                19110 non-null  bool  \n",
      " 34  RWH                 19110 non-null  bool  \n",
      " 35  STP                 19110 non-null  bool  \n",
      " 36  HK                  19110 non-null  bool  \n",
      " 37  PB                  19110 non-null  bool  \n",
      " 38  VP                  19110 non-null  bool  \n",
      "dtypes: bool(26), int64(7), object(6)\n",
      "memory usage: 2.4+ MB\n"
     ]
    }
   ],
   "source": [
    "df = df.drop(columns=['id', 'localityId', 'parkingDesc', 'propertyTitle', 'shortUrl', 'completeStreetName'])\n",
    "df.info()"
   ]
  },
  {
   "cell_type": "code",
   "execution_count": 39,
   "metadata": {},
   "outputs": [
    {
     "data": {
      "text/html": [
       "<div>\n",
       "<style scoped>\n",
       "    .dataframe tbody tr th:only-of-type {\n",
       "        vertical-align: middle;\n",
       "    }\n",
       "\n",
       "    .dataframe tbody tr th {\n",
       "        vertical-align: top;\n",
       "    }\n",
       "\n",
       "    .dataframe thead th {\n",
       "        text-align: right;\n",
       "    }\n",
       "</style>\n",
       "<table border=\"1\" class=\"dataframe\">\n",
       "  <thead>\n",
       "    <tr style=\"text-align: right;\">\n",
       "      <th></th>\n",
       "      <th>active</th>\n",
       "      <th>bathroom</th>\n",
       "      <th>deposit</th>\n",
       "      <th>floor</th>\n",
       "      <th>furnishingDesc</th>\n",
       "      <th>gym</th>\n",
       "      <th>isMaintenance</th>\n",
       "      <th>lift</th>\n",
       "      <th>loanAvailable</th>\n",
       "      <th>locality</th>\n",
       "      <th>location</th>\n",
       "      <th>parking</th>\n",
       "      <th>propertyType</th>\n",
       "      <th>property_age</th>\n",
       "      <th>property_size</th>\n",
       "      <th>rent_amount</th>\n",
       "      <th>sharedAccomodation</th>\n",
       "      <th>swimmingPool</th>\n",
       "      <th>totalFloor</th>\n",
       "      <th>type_bhk</th>\n",
       "      <th>LIFT</th>\n",
       "      <th>GYM</th>\n",
       "      <th>INTERNET</th>\n",
       "      <th>AC</th>\n",
       "      <th>CLUB</th>\n",
       "      <th>INTERCOM</th>\n",
       "      <th>POOL</th>\n",
       "      <th>CPA</th>\n",
       "      <th>FS</th>\n",
       "      <th>SERVANT</th>\n",
       "      <th>SECURITY</th>\n",
       "      <th>SC</th>\n",
       "      <th>GP</th>\n",
       "      <th>PARK</th>\n",
       "      <th>RWH</th>\n",
       "      <th>STP</th>\n",
       "      <th>HK</th>\n",
       "      <th>PB</th>\n",
       "      <th>VP</th>\n",
       "    </tr>\n",
       "  </thead>\n",
       "  <tbody>\n",
       "    <tr>\n",
       "      <th>0</th>\n",
       "      <td>True</td>\n",
       "      <td>3</td>\n",
       "      <td>90000</td>\n",
       "      <td>3</td>\n",
       "      <td>Semi</td>\n",
       "      <td>False</td>\n",
       "      <td>True</td>\n",
       "      <td>True</td>\n",
       "      <td>True</td>\n",
       "      <td>Gachibowli</td>\n",
       "      <td>17.465080245131944000,78.340134322090170000</td>\n",
       "      <td>BOTH</td>\n",
       "      <td>RENT</td>\n",
       "      <td>5</td>\n",
       "      <td>2200</td>\n",
       "      <td>28000</td>\n",
       "      <td>False</td>\n",
       "      <td>False</td>\n",
       "      <td>5</td>\n",
       "      <td>BHK3</td>\n",
       "      <td>True</td>\n",
       "      <td>False</td>\n",
       "      <td>False</td>\n",
       "      <td>False</td>\n",
       "      <td>False</td>\n",
       "      <td>False</td>\n",
       "      <td>False</td>\n",
       "      <td>True</td>\n",
       "      <td>False</td>\n",
       "      <td>False</td>\n",
       "      <td>True</td>\n",
       "      <td>False</td>\n",
       "      <td>False</td>\n",
       "      <td>False</td>\n",
       "      <td>True</td>\n",
       "      <td>False</td>\n",
       "      <td>False</td>\n",
       "      <td>True</td>\n",
       "      <td>True</td>\n",
       "    </tr>\n",
       "    <tr>\n",
       "      <th>1</th>\n",
       "      <td>True</td>\n",
       "      <td>2</td>\n",
       "      <td>45000</td>\n",
       "      <td>2</td>\n",
       "      <td>Unfurnished</td>\n",
       "      <td>False</td>\n",
       "      <td>False</td>\n",
       "      <td>False</td>\n",
       "      <td>True</td>\n",
       "      <td>Chandrayangutta</td>\n",
       "      <td>17.320233889090165000,78.467765880356640000</td>\n",
       "      <td>TWO_WHEELER</td>\n",
       "      <td>RENT</td>\n",
       "      <td>1</td>\n",
       "      <td>1200</td>\n",
       "      <td>15000</td>\n",
       "      <td>False</td>\n",
       "      <td>False</td>\n",
       "      <td>2</td>\n",
       "      <td>BHK3</td>\n",
       "      <td>False</td>\n",
       "      <td>False</td>\n",
       "      <td>False</td>\n",
       "      <td>False</td>\n",
       "      <td>False</td>\n",
       "      <td>False</td>\n",
       "      <td>False</td>\n",
       "      <td>False</td>\n",
       "      <td>False</td>\n",
       "      <td>False</td>\n",
       "      <td>False</td>\n",
       "      <td>False</td>\n",
       "      <td>False</td>\n",
       "      <td>False</td>\n",
       "      <td>False</td>\n",
       "      <td>True</td>\n",
       "      <td>False</td>\n",
       "      <td>False</td>\n",
       "      <td>False</td>\n",
       "    </tr>\n",
       "    <tr>\n",
       "      <th>2</th>\n",
       "      <td>True</td>\n",
       "      <td>3</td>\n",
       "      <td>80000</td>\n",
       "      <td>0</td>\n",
       "      <td>Semi</td>\n",
       "      <td>True</td>\n",
       "      <td>True</td>\n",
       "      <td>True</td>\n",
       "      <td>True</td>\n",
       "      <td>Manikonda</td>\n",
       "      <td>17.403649100000000000,78.379442099999990000</td>\n",
       "      <td>BOTH</td>\n",
       "      <td>RENT</td>\n",
       "      <td>0</td>\n",
       "      <td>1800</td>\n",
       "      <td>16000</td>\n",
       "      <td>False</td>\n",
       "      <td>False</td>\n",
       "      <td>3</td>\n",
       "      <td>BHK3</td>\n",
       "      <td>True</td>\n",
       "      <td>True</td>\n",
       "      <td>False</td>\n",
       "      <td>False</td>\n",
       "      <td>False</td>\n",
       "      <td>False</td>\n",
       "      <td>False</td>\n",
       "      <td>False</td>\n",
       "      <td>False</td>\n",
       "      <td>True</td>\n",
       "      <td>True</td>\n",
       "      <td>False</td>\n",
       "      <td>False</td>\n",
       "      <td>False</td>\n",
       "      <td>True</td>\n",
       "      <td>False</td>\n",
       "      <td>False</td>\n",
       "      <td>True</td>\n",
       "      <td>True</td>\n",
       "    </tr>\n",
       "  </tbody>\n",
       "</table>\n",
       "</div>"
      ],
      "text/plain": [
       "   active  bathroom  deposit  floor furnishingDesc    gym  isMaintenance  \\\n",
       "0    True         3    90000      3           Semi  False           True   \n",
       "1    True         2    45000      2    Unfurnished  False          False   \n",
       "2    True         3    80000      0           Semi   True           True   \n",
       "\n",
       "    lift  loanAvailable         locality  \\\n",
       "0   True           True       Gachibowli   \n",
       "1  False           True  Chandrayangutta   \n",
       "2   True           True        Manikonda   \n",
       "\n",
       "                                      location      parking propertyType  \\\n",
       "0  17.465080245131944000,78.340134322090170000         BOTH         RENT   \n",
       "1  17.320233889090165000,78.467765880356640000  TWO_WHEELER         RENT   \n",
       "2  17.403649100000000000,78.379442099999990000         BOTH         RENT   \n",
       "\n",
       "   property_age  property_size  rent_amount  sharedAccomodation  swimmingPool  \\\n",
       "0             5           2200        28000               False         False   \n",
       "1             1           1200        15000               False         False   \n",
       "2             0           1800        16000               False         False   \n",
       "\n",
       "   totalFloor type_bhk   LIFT    GYM  INTERNET     AC   CLUB  INTERCOM   POOL  \\\n",
       "0           5     BHK3   True  False     False  False  False     False  False   \n",
       "1           2     BHK3  False  False     False  False  False     False  False   \n",
       "2           3     BHK3   True   True     False  False  False     False  False   \n",
       "\n",
       "     CPA     FS  SERVANT  SECURITY     SC     GP   PARK    RWH    STP     HK  \\\n",
       "0   True  False    False      True  False  False  False   True  False  False   \n",
       "1  False  False    False     False  False  False  False  False   True  False   \n",
       "2  False  False     True      True  False  False  False   True  False  False   \n",
       "\n",
       "      PB     VP  \n",
       "0   True   True  \n",
       "1  False  False  \n",
       "2   True   True  "
      ]
     },
     "execution_count": 39,
     "metadata": {},
     "output_type": "execute_result"
    }
   ],
   "source": [
    "df.head(3)"
   ]
  },
  {
   "cell_type": "code",
   "execution_count": 40,
   "metadata": {},
   "outputs": [
    {
     "data": {
      "text/plain": [
       "count                                           19110\n",
       "unique                                          16065\n",
       "top       17.423441796248294000,78.341291944094050000\n",
       "freq                                               40\n",
       "Name: location, dtype: object"
      ]
     },
     "execution_count": 40,
     "metadata": {},
     "output_type": "execute_result"
    }
   ],
   "source": [
    "df['location'].describe()"
   ]
  },
  {
   "cell_type": "code",
   "execution_count": 41,
   "metadata": {},
   "outputs": [
    {
     "data": {
      "text/plain": [
       "count                                       19110\n",
       "unique                                      16065\n",
       "top       (17.423441796248294, 78.34129194409405)\n",
       "freq                                           40\n",
       "Name: location, dtype: object"
      ]
     },
     "execution_count": 41,
     "metadata": {},
     "output_type": "execute_result"
    }
   ],
   "source": [
    "df['location'] = df['location'].apply(eval).apply(tuple)\n",
    "df['location'].describe()"
   ]
  },
  {
   "cell_type": "code",
   "execution_count": 42,
   "metadata": {},
   "outputs": [
    {
     "data": {
      "text/plain": [
       "count     19110\n",
       "unique        6\n",
       "top        BHK2\n",
       "freq       9242\n",
       "Name: type_bhk, dtype: object"
      ]
     },
     "execution_count": 42,
     "metadata": {},
     "output_type": "execute_result"
    }
   ],
   "source": [
    "df['type_bhk'].describe()"
   ]
  },
  {
   "cell_type": "code",
   "execution_count": 43,
   "metadata": {},
   "outputs": [
    {
     "name": "stdout",
     "output_type": "stream",
     "text": [
      "['BHK3' 'BHK2' 'BHK1' 'BHK4' 'RK1' 'BHK4PLUS']\n"
     ]
    }
   ],
   "source": [
    "print(df['type_bhk'].unique())"
   ]
  },
  {
   "cell_type": "code",
   "execution_count": 58,
   "metadata": {},
   "outputs": [],
   "source": [
    "df.to_csv('preprocessed_data.csv', index=False)"
   ]
  },
  {
   "cell_type": "code",
   "execution_count": 57,
   "metadata": {},
   "outputs": [],
   "source": [
    "df['location'] = df['location'].apply(str)"
   ]
  },
  {
   "cell_type": "code",
   "execution_count": 54,
   "metadata": {},
   "outputs": [],
   "source": [
    "df = df.drop(columns=['gym'])"
   ]
  },
  {
   "cell_type": "code",
   "execution_count": 59,
   "metadata": {},
   "outputs": [
    {
     "data": {
      "text/plain": [
       "19110"
      ]
     },
     "execution_count": 59,
     "metadata": {},
     "output_type": "execute_result"
    }
   ],
   "source": [
    "import sqlite3\n",
    "\n",
    "conn = sqlite3.connect('preprocessed_data.db')\n",
    "df.to_sql('hyd_rent_params', conn, index=False, if_exists='replace')"
   ]
  },
  {
   "cell_type": "code",
   "execution_count": null,
   "metadata": {},
   "outputs": [],
   "source": []
  }
 ],
 "metadata": {
  "kernelspec": {
   "display_name": "Python 3",
   "language": "python",
   "name": "python3"
  },
  "language_info": {
   "codemirror_mode": {
    "name": "ipython",
    "version": 3
   },
   "file_extension": ".py",
   "mimetype": "text/x-python",
   "name": "python",
   "nbconvert_exporter": "python",
   "pygments_lexer": "ipython3",
   "version": "3.12.1"
  }
 },
 "nbformat": 4,
 "nbformat_minor": 2
}
