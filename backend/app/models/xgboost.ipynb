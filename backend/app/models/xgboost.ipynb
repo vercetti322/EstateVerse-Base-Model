{
 "cells": [
  {
   "cell_type": "code",
   "execution_count": 1,
   "metadata": {},
   "outputs": [],
   "source": [
    "import pandas as pd \n",
    "import numpy as np \n",
    "import seaborn as sns\n",
    "from sklearn.model_selection import train_test_split\n",
    "from xgboost import XGBRegressor\n",
    "from sklearn.metrics import mean_squared_error"
   ]
  },
  {
   "cell_type": "code",
   "execution_count": 2,
   "metadata": {},
   "outputs": [
    {
     "data": {
      "text/html": [
       "<div>\n",
       "<style scoped>\n",
       "    .dataframe tbody tr th:only-of-type {\n",
       "        vertical-align: middle;\n",
       "    }\n",
       "\n",
       "    .dataframe tbody tr th {\n",
       "        vertical-align: top;\n",
       "    }\n",
       "\n",
       "    .dataframe thead th {\n",
       "        text-align: right;\n",
       "    }\n",
       "</style>\n",
       "<table border=\"1\" class=\"dataframe\">\n",
       "  <thead>\n",
       "    <tr style=\"text-align: right;\">\n",
       "      <th></th>\n",
       "      <th>active</th>\n",
       "      <th>bathroom</th>\n",
       "      <th>deposit</th>\n",
       "      <th>floor</th>\n",
       "      <th>furnishingDesc</th>\n",
       "      <th>isMaintenance</th>\n",
       "      <th>loanAvailable</th>\n",
       "      <th>locality</th>\n",
       "      <th>location</th>\n",
       "      <th>parking</th>\n",
       "      <th>...</th>\n",
       "      <th>SERVANT</th>\n",
       "      <th>SECURITY</th>\n",
       "      <th>SC</th>\n",
       "      <th>GP</th>\n",
       "      <th>PARK</th>\n",
       "      <th>RWH</th>\n",
       "      <th>STP</th>\n",
       "      <th>HK</th>\n",
       "      <th>PB</th>\n",
       "      <th>VP</th>\n",
       "    </tr>\n",
       "  </thead>\n",
       "  <tbody>\n",
       "    <tr>\n",
       "      <th>0</th>\n",
       "      <td>True</td>\n",
       "      <td>3</td>\n",
       "      <td>90000</td>\n",
       "      <td>3</td>\n",
       "      <td>Semi</td>\n",
       "      <td>True</td>\n",
       "      <td>True</td>\n",
       "      <td>Gachibowli</td>\n",
       "      <td>(17.465080245131944, 78.34013432209017)</td>\n",
       "      <td>BOTH</td>\n",
       "      <td>...</td>\n",
       "      <td>False</td>\n",
       "      <td>True</td>\n",
       "      <td>False</td>\n",
       "      <td>False</td>\n",
       "      <td>False</td>\n",
       "      <td>True</td>\n",
       "      <td>False</td>\n",
       "      <td>False</td>\n",
       "      <td>True</td>\n",
       "      <td>True</td>\n",
       "    </tr>\n",
       "    <tr>\n",
       "      <th>1</th>\n",
       "      <td>True</td>\n",
       "      <td>2</td>\n",
       "      <td>45000</td>\n",
       "      <td>2</td>\n",
       "      <td>Unfurnished</td>\n",
       "      <td>False</td>\n",
       "      <td>True</td>\n",
       "      <td>Chandrayangutta</td>\n",
       "      <td>(17.320233889090165, 78.46776588035664)</td>\n",
       "      <td>TWO_WHEELER</td>\n",
       "      <td>...</td>\n",
       "      <td>False</td>\n",
       "      <td>False</td>\n",
       "      <td>False</td>\n",
       "      <td>False</td>\n",
       "      <td>False</td>\n",
       "      <td>False</td>\n",
       "      <td>True</td>\n",
       "      <td>False</td>\n",
       "      <td>False</td>\n",
       "      <td>False</td>\n",
       "    </tr>\n",
       "    <tr>\n",
       "      <th>2</th>\n",
       "      <td>True</td>\n",
       "      <td>3</td>\n",
       "      <td>80000</td>\n",
       "      <td>0</td>\n",
       "      <td>Semi</td>\n",
       "      <td>True</td>\n",
       "      <td>True</td>\n",
       "      <td>Manikonda</td>\n",
       "      <td>(17.4036491, 78.37944209999999)</td>\n",
       "      <td>BOTH</td>\n",
       "      <td>...</td>\n",
       "      <td>True</td>\n",
       "      <td>True</td>\n",
       "      <td>False</td>\n",
       "      <td>False</td>\n",
       "      <td>False</td>\n",
       "      <td>True</td>\n",
       "      <td>False</td>\n",
       "      <td>False</td>\n",
       "      <td>True</td>\n",
       "      <td>True</td>\n",
       "    </tr>\n",
       "  </tbody>\n",
       "</table>\n",
       "<p>3 rows × 37 columns</p>\n",
       "</div>"
      ],
      "text/plain": [
       "   active  bathroom  deposit  floor furnishingDesc  isMaintenance  \\\n",
       "0    True         3    90000      3           Semi           True   \n",
       "1    True         2    45000      2    Unfurnished          False   \n",
       "2    True         3    80000      0           Semi           True   \n",
       "\n",
       "   loanAvailable         locality                                 location  \\\n",
       "0           True       Gachibowli  (17.465080245131944, 78.34013432209017)   \n",
       "1           True  Chandrayangutta  (17.320233889090165, 78.46776588035664)   \n",
       "2           True        Manikonda          (17.4036491, 78.37944209999999)   \n",
       "\n",
       "       parking  ... SERVANT  SECURITY     SC     GP   PARK    RWH    STP  \\\n",
       "0         BOTH  ...   False      True  False  False  False   True  False   \n",
       "1  TWO_WHEELER  ...   False     False  False  False  False  False   True   \n",
       "2         BOTH  ...    True      True  False  False  False   True  False   \n",
       "\n",
       "      HK     PB     VP  \n",
       "0  False   True   True  \n",
       "1  False  False  False  \n",
       "2  False   True   True  \n",
       "\n",
       "[3 rows x 37 columns]"
      ]
     },
     "execution_count": 2,
     "metadata": {},
     "output_type": "execute_result"
    }
   ],
   "source": [
    "df = pd.read_csv('C:/Users/HP/Desktop/EstateVerse-Base-Model/backend/data/preprocessed_data.csv')\n",
    "df.head(3)"
   ]
  },
  {
   "cell_type": "code",
   "execution_count": 3,
   "metadata": {},
   "outputs": [
    {
     "name": "stdout",
     "output_type": "stream",
     "text": [
      "['active', 'furnishingDesc', 'isMaintenance', 'loanAvailable', 'parking', 'propertyType', 'sharedAccomodation', 'swimmingPool', 'type_bhk', 'LIFT', 'GYM', 'INTERNET', 'AC', 'CLUB', 'INTERCOM', 'POOL', 'CPA', 'FS', 'SERVANT', 'SECURITY', 'SC', 'GP', 'PARK', 'RWH', 'STP', 'HK', 'PB', 'VP']\n"
     ]
    }
   ],
   "source": [
    "categorical_columns = df.columns[df.nunique() < 10].tolist()\n",
    "print(categorical_columns)"
   ]
  },
  {
   "cell_type": "code",
   "execution_count": 4,
   "metadata": {},
   "outputs": [],
   "source": [
    "df = pd.get_dummies(df, columns=categorical_columns)"
   ]
  },
  {
   "cell_type": "code",
   "execution_count": 5,
   "metadata": {},
   "outputs": [],
   "source": [
    "df = pd.get_dummies(df, columns=['locality'])\n",
    "df[['latitude', 'longitude']] = df['location'].str.strip('()').str.split(',', expand=True).astype(float)\n",
    "df = df.drop('location', axis=1)"
   ]
  },
  {
   "cell_type": "code",
   "execution_count": 6,
   "metadata": {},
   "outputs": [
    {
     "data": {
      "text/html": [
       "<div>\n",
       "<style scoped>\n",
       "    .dataframe tbody tr th:only-of-type {\n",
       "        vertical-align: middle;\n",
       "    }\n",
       "\n",
       "    .dataframe tbody tr th {\n",
       "        vertical-align: top;\n",
       "    }\n",
       "\n",
       "    .dataframe thead th {\n",
       "        text-align: right;\n",
       "    }\n",
       "</style>\n",
       "<table border=\"1\" class=\"dataframe\">\n",
       "  <thead>\n",
       "    <tr style=\"text-align: right;\">\n",
       "      <th></th>\n",
       "      <th>bathroom</th>\n",
       "      <th>deposit</th>\n",
       "      <th>floor</th>\n",
       "      <th>property_age</th>\n",
       "      <th>property_size</th>\n",
       "      <th>rent_amount</th>\n",
       "      <th>totalFloor</th>\n",
       "      <th>active_True</th>\n",
       "      <th>furnishingDesc_Full</th>\n",
       "      <th>furnishingDesc_Semi</th>\n",
       "      <th>...</th>\n",
       "      <th>locality_west hanuman nagar Boduppal</th>\n",
       "      <th>locality_whisper valley</th>\n",
       "      <th>locality_yellammabanda.com</th>\n",
       "      <th>locality_yousuf manzil, Kachiguda Kamela</th>\n",
       "      <th>locality_yousufguda</th>\n",
       "      <th>locality_yousufguda</th>\n",
       "      <th>locality_zamistanpur</th>\n",
       "      <th>locality_zzathnagar</th>\n",
       "      <th>latitude</th>\n",
       "      <th>longitude</th>\n",
       "    </tr>\n",
       "  </thead>\n",
       "  <tbody>\n",
       "    <tr>\n",
       "      <th>0</th>\n",
       "      <td>3</td>\n",
       "      <td>90000</td>\n",
       "      <td>3</td>\n",
       "      <td>5</td>\n",
       "      <td>2200</td>\n",
       "      <td>28000</td>\n",
       "      <td>5</td>\n",
       "      <td>True</td>\n",
       "      <td>False</td>\n",
       "      <td>True</td>\n",
       "      <td>...</td>\n",
       "      <td>False</td>\n",
       "      <td>False</td>\n",
       "      <td>False</td>\n",
       "      <td>False</td>\n",
       "      <td>False</td>\n",
       "      <td>False</td>\n",
       "      <td>False</td>\n",
       "      <td>False</td>\n",
       "      <td>17.465080</td>\n",
       "      <td>78.340134</td>\n",
       "    </tr>\n",
       "    <tr>\n",
       "      <th>1</th>\n",
       "      <td>2</td>\n",
       "      <td>45000</td>\n",
       "      <td>2</td>\n",
       "      <td>1</td>\n",
       "      <td>1200</td>\n",
       "      <td>15000</td>\n",
       "      <td>2</td>\n",
       "      <td>True</td>\n",
       "      <td>False</td>\n",
       "      <td>False</td>\n",
       "      <td>...</td>\n",
       "      <td>False</td>\n",
       "      <td>False</td>\n",
       "      <td>False</td>\n",
       "      <td>False</td>\n",
       "      <td>False</td>\n",
       "      <td>False</td>\n",
       "      <td>False</td>\n",
       "      <td>False</td>\n",
       "      <td>17.320234</td>\n",
       "      <td>78.467766</td>\n",
       "    </tr>\n",
       "  </tbody>\n",
       "</table>\n",
       "<p>2 rows × 2706 columns</p>\n",
       "</div>"
      ],
      "text/plain": [
       "   bathroom  deposit  floor  property_age  property_size  rent_amount  \\\n",
       "0         3    90000      3             5           2200        28000   \n",
       "1         2    45000      2             1           1200        15000   \n",
       "\n",
       "   totalFloor  active_True  furnishingDesc_Full  furnishingDesc_Semi  ...  \\\n",
       "0           5         True                False                 True  ...   \n",
       "1           2         True                False                False  ...   \n",
       "\n",
       "   locality_west hanuman nagar Boduppal  locality_whisper valley  \\\n",
       "0                                 False                    False   \n",
       "1                                 False                    False   \n",
       "\n",
       "   locality_yellammabanda.com  locality_yousuf manzil, Kachiguda Kamela  \\\n",
       "0                       False                                     False   \n",
       "1                       False                                     False   \n",
       "\n",
       "   locality_yousufguda  locality_yousufguda   locality_zamistanpur  \\\n",
       "0                False                 False                 False   \n",
       "1                False                 False                 False   \n",
       "\n",
       "   locality_zzathnagar   latitude  longitude  \n",
       "0                False  17.465080  78.340134  \n",
       "1                False  17.320234  78.467766  \n",
       "\n",
       "[2 rows x 2706 columns]"
      ]
     },
     "execution_count": 6,
     "metadata": {},
     "output_type": "execute_result"
    }
   ],
   "source": [
    "df.head(2)"
   ]
  },
  {
   "cell_type": "code",
   "execution_count": 8,
   "metadata": {},
   "outputs": [],
   "source": [
    "X = df.drop(['deposit', 'rent_amount'], axis=1)  # Features excluding 'deposit' and 'rent_amount'\n",
    "y = df[['deposit', 'rent_amount']]  # Target variables"
   ]
  },
  {
   "cell_type": "code",
   "execution_count": 9,
   "metadata": {},
   "outputs": [
    {
     "name": "stdout",
     "output_type": "stream",
     "text": [
      "<class 'pandas.core.frame.DataFrame'>\n",
      "RangeIndex: 19110 entries, 0 to 19109\n",
      "Columns: 2704 entries, bathroom to longitude\n",
      "dtypes: bool(2697), float64(2), int64(5)\n",
      "memory usage: 50.2 MB\n"
     ]
    }
   ],
   "source": [
    "X.info()"
   ]
  },
  {
   "cell_type": "code",
   "execution_count": 10,
   "metadata": {},
   "outputs": [
    {
     "name": "stdout",
     "output_type": "stream",
     "text": [
      "<class 'pandas.core.frame.DataFrame'>\n",
      "RangeIndex: 19110 entries, 0 to 19109\n",
      "Data columns (total 2 columns):\n",
      " #   Column       Non-Null Count  Dtype\n",
      "---  ------       --------------  -----\n",
      " 0   deposit      19110 non-null  int64\n",
      " 1   rent_amount  19110 non-null  int64\n",
      "dtypes: int64(2)\n",
      "memory usage: 298.7 KB\n"
     ]
    }
   ],
   "source": [
    "y.info()"
   ]
  },
  {
   "cell_type": "code",
   "execution_count": 11,
   "metadata": {},
   "outputs": [],
   "source": [
    "X_train, X_test, y_train, y_test = train_test_split(X, y, test_size=0.2, random_state=44)"
   ]
  },
  {
   "cell_type": "code",
   "execution_count": 12,
   "metadata": {},
   "outputs": [
    {
     "data": {
      "text/html": [
       "<div>\n",
       "<style scoped>\n",
       "    .dataframe tbody tr th:only-of-type {\n",
       "        vertical-align: middle;\n",
       "    }\n",
       "\n",
       "    .dataframe tbody tr th {\n",
       "        vertical-align: top;\n",
       "    }\n",
       "\n",
       "    .dataframe thead th {\n",
       "        text-align: right;\n",
       "    }\n",
       "</style>\n",
       "<table border=\"1\" class=\"dataframe\">\n",
       "  <thead>\n",
       "    <tr style=\"text-align: right;\">\n",
       "      <th></th>\n",
       "      <th>bathroom</th>\n",
       "      <th>floor</th>\n",
       "      <th>property_age</th>\n",
       "      <th>property_size</th>\n",
       "      <th>totalFloor</th>\n",
       "      <th>active_True</th>\n",
       "      <th>furnishingDesc_Full</th>\n",
       "      <th>furnishingDesc_Semi</th>\n",
       "      <th>furnishingDesc_Unfurnished</th>\n",
       "      <th>isMaintenance_False</th>\n",
       "      <th>...</th>\n",
       "      <th>locality_west hanuman nagar Boduppal</th>\n",
       "      <th>locality_whisper valley</th>\n",
       "      <th>locality_yellammabanda.com</th>\n",
       "      <th>locality_yousuf manzil, Kachiguda Kamela</th>\n",
       "      <th>locality_yousufguda</th>\n",
       "      <th>locality_yousufguda</th>\n",
       "      <th>locality_zamistanpur</th>\n",
       "      <th>locality_zzathnagar</th>\n",
       "      <th>latitude</th>\n",
       "      <th>longitude</th>\n",
       "    </tr>\n",
       "  </thead>\n",
       "  <tbody>\n",
       "    <tr>\n",
       "      <th>15013</th>\n",
       "      <td>3</td>\n",
       "      <td>0</td>\n",
       "      <td>5</td>\n",
       "      <td>1400</td>\n",
       "      <td>7</td>\n",
       "      <td>True</td>\n",
       "      <td>True</td>\n",
       "      <td>False</td>\n",
       "      <td>False</td>\n",
       "      <td>False</td>\n",
       "      <td>...</td>\n",
       "      <td>False</td>\n",
       "      <td>False</td>\n",
       "      <td>False</td>\n",
       "      <td>False</td>\n",
       "      <td>False</td>\n",
       "      <td>False</td>\n",
       "      <td>False</td>\n",
       "      <td>False</td>\n",
       "      <td>17.412045</td>\n",
       "      <td>78.565161</td>\n",
       "    </tr>\n",
       "    <tr>\n",
       "      <th>4614</th>\n",
       "      <td>2</td>\n",
       "      <td>1</td>\n",
       "      <td>10</td>\n",
       "      <td>1200</td>\n",
       "      <td>1</td>\n",
       "      <td>True</td>\n",
       "      <td>False</td>\n",
       "      <td>True</td>\n",
       "      <td>False</td>\n",
       "      <td>True</td>\n",
       "      <td>...</td>\n",
       "      <td>False</td>\n",
       "      <td>False</td>\n",
       "      <td>False</td>\n",
       "      <td>False</td>\n",
       "      <td>False</td>\n",
       "      <td>False</td>\n",
       "      <td>False</td>\n",
       "      <td>False</td>\n",
       "      <td>17.450821</td>\n",
       "      <td>78.524547</td>\n",
       "    </tr>\n",
       "  </tbody>\n",
       "</table>\n",
       "<p>2 rows × 2704 columns</p>\n",
       "</div>"
      ],
      "text/plain": [
       "       bathroom  floor  property_age  property_size  totalFloor  active_True  \\\n",
       "15013         3      0             5           1400           7         True   \n",
       "4614          2      1            10           1200           1         True   \n",
       "\n",
       "       furnishingDesc_Full  furnishingDesc_Semi  furnishingDesc_Unfurnished  \\\n",
       "15013                 True                False                       False   \n",
       "4614                 False                 True                       False   \n",
       "\n",
       "       isMaintenance_False  ...  locality_west hanuman nagar Boduppal  \\\n",
       "15013                False  ...                                 False   \n",
       "4614                  True  ...                                 False   \n",
       "\n",
       "       locality_whisper valley  locality_yellammabanda.com  \\\n",
       "15013                    False                       False   \n",
       "4614                     False                       False   \n",
       "\n",
       "       locality_yousuf manzil, Kachiguda Kamela  locality_yousufguda  \\\n",
       "15013                                     False                False   \n",
       "4614                                      False                False   \n",
       "\n",
       "       locality_yousufguda   locality_zamistanpur  locality_zzathnagar  \\\n",
       "15013                 False                 False                False   \n",
       "4614                  False                 False                False   \n",
       "\n",
       "        latitude  longitude  \n",
       "15013  17.412045  78.565161  \n",
       "4614   17.450821  78.524547  \n",
       "\n",
       "[2 rows x 2704 columns]"
      ]
     },
     "execution_count": 12,
     "metadata": {},
     "output_type": "execute_result"
    }
   ],
   "source": [
    "X_test.head(2)"
   ]
  },
  {
   "cell_type": "code",
   "execution_count": 13,
   "metadata": {},
   "outputs": [],
   "source": [
    "model = XGBRegressor()\n",
    "model.fit(X_train, y_train)\n",
    "y_pred = model.predict(X_test)"
   ]
  },
  {
   "cell_type": "code",
   "execution_count": 14,
   "metadata": {},
   "outputs": [
    {
     "data": {
      "text/plain": [
       "array([[45871.914, 13818.699],\n",
       "       [24905.318, 13157.738],\n",
       "       [59999.62 , 26469.502],\n",
       "       ...,\n",
       "       [12347.737,  7959.964],\n",
       "       [12289.882,  7407.328],\n",
       "       [36393.05 , 16296.125]], dtype=float32)"
      ]
     },
     "execution_count": 14,
     "metadata": {},
     "output_type": "execute_result"
    }
   ],
   "source": [
    "y_pred"
   ]
  },
  {
   "cell_type": "code",
   "execution_count": 15,
   "metadata": {},
   "outputs": [
    {
     "name": "stdout",
     "output_type": "stream",
     "text": [
      "Root mean Squared Error: 33274.652720370475\n"
     ]
    }
   ],
   "source": [
    "mse = mean_squared_error(y_test, y_pred)\n",
    "print(f'Root mean Squared Error: {mse ** 0.5}')"
   ]
  },
  {
   "cell_type": "code",
   "execution_count": 16,
   "metadata": {},
   "outputs": [
    {
     "data": {
      "image/png": "[encoded data removed]",
      "text/plain": [
       "<Figure size 640x480 with 1 Axes>"
      ]
     },
     "metadata": {},
     "output_type": "display_data"
    }
   ],
   "source": [
    "# scatter plot\n",
    "import matplotlib.pyplot as plt\n",
    "plt.scatter(y_test['deposit'], y_test['rent_amount'], color='blue', label='True Values')\n",
    "plt.scatter(y_pred[:, 0], y_pred[:, 1], color='red', label='Predicted Values')\n",
    "\n",
    "plt.xlabel('Deposit')\n",
    "plt.ylabel('Rent Amount')\n",
    "plt.title('True vs Predicted Values')\n",
    "plt.legend()\n",
    "plt.show()"
   ]
  },
  {
   "cell_type": "code",
   "execution_count": 17,
   "metadata": {},
   "outputs": [
    {
     "data": {
      "image/png": "[encoded data removed]",
      "text/plain": [
       "<Figure size 640x480 with 1 Axes>"
      ]
     },
     "metadata": {},
     "output_type": "display_data"
    }
   ],
   "source": [
    "# residual scatter plot\n",
    "residuals = y_test - y_pred\n",
    "plt.scatter(y_test['deposit'], residuals['deposit'], color='green', label='Residuals Deposit')\n",
    "plt.scatter(y_test['rent_amount'], residuals['rent_amount'], color='orange', label='Residuals Rent Amount')\n",
    "plt.xlabel('True Values')\n",
    "plt.ylabel('Residuals')\n",
    "plt.title('Residual Plot')\n",
    "plt.legend()\n",
    "plt.show()"
   ]
  },
  {
   "cell_type": "code",
   "execution_count": 18,
   "metadata": {},
   "outputs": [
    {
     "data": {
      "image/png": "[encoded data removed]",
      "text/plain": [
       "<Figure size 640x480 with 1 Axes>"
      ]
     },
     "metadata": {},
     "output_type": "display_data"
    }
   ],
   "source": [
    "plt.scatter(y_pred[:, 0], residuals['deposit'], color='green', label='Deposit')\n",
    "plt.scatter(y_pred[:, 1], residuals['rent_amount'], color='orange', label='Rent Amount')\n",
    "plt.xlabel('Predicted Values')\n",
    "plt.ylabel('Residuals')\n",
    "plt.title('Prediction Error Plot')\n",
    "plt.legend()\n",
    "plt.show()"
   ]
  },
  {
   "cell_type": "code",
   "execution_count": 33,
   "metadata": {},
   "outputs": [
    {
     "data": {
      "text/plain": [
       "['xgboost_model.pkl']"
      ]
     },
     "execution_count": 33,
     "metadata": {},
     "output_type": "execute_result"
    }
   ],
   "source": [
    "import joblib\n",
    "model_path = 'xgboost_model.pkl'\n",
    "joblib.dump(model, model_path)"
   ]
  },
  {
   "cell_type": "code",
   "execution_count": 34,
   "metadata": {},
   "outputs": [],
   "source": [
    "xgb_model = joblib.load('C:/Users/HP/Desktop/EstateVerse-Base-Model/backend/app/models/xgboost_model.pkl')  "
   ]
  },
  {
   "cell_type": "code",
   "execution_count": 40,
   "metadata": {},
   "outputs": [
    {
     "name": "stdout",
     "output_type": "stream",
     "text": [
      "   bathroom  floor  property_age  property_size  totalFloor  active_True  \\\n",
      "0         3      3             5           2200           5         True   \n",
      "\n",
      "   furnishingDesc_Full  furnishingDesc_Semi  furnishingDesc_Unfurnished  \\\n",
      "0                    0                 True                           0   \n",
      "\n",
      "   isMaintenance_False  ...  locality_west hanuman nagar Boduppal  \\\n",
      "0                    0  ...                                     0   \n",
      "\n",
      "   locality_whisper valley  locality_yellammabanda.com  \\\n",
      "0                        0                           0   \n",
      "\n",
      "   locality_yousuf manzil, Kachiguda Kamela  locality_yousufguda  \\\n",
      "0                                         0                    0   \n",
      "\n",
      "   locality_yousufguda   locality_zamistanpur  locality_zzathnagar  latitude  \\\n",
      "0                     0                     0                    0  17.46508   \n",
      "\n",
      "   longitude  \n",
      "0  78.340134  \n",
      "\n",
      "[1 rows x 2704 columns]\n"
     ]
    }
   ],
   "source": [
    "import pandas as pd\n",
    "\n",
    "# Assuming df_train is your training set DataFrame with one-hot encoding\n",
    "# df_train = pd.get_dummies(train_data, columns=categorical_columns)\n",
    "\n",
    "# Assuming input_data is your new input data\n",
    "input_data = {\n",
    "    \"active\": \"True\", \"bathroom\": \"3\", \"floor\": \"3\", \"furnishingDesc\": \"Semi\",\n",
    "    \"isMaintenance\": \"True\", \"loanAvailable\": \"True\", \"locality\": \"Gachibowli\",\n",
    "    \"location\": \"(17.465080245131944, 78.34013432209017)\", \"parking\": \"BOTH\",\n",
    "    \"propertyType\": \"RENT\", \"property_age\": \"5\", \"property_size\": \"2200\",\n",
    "    \"sharedAccomodation\": \"False\", \"swimmingPool\": \"False\", \"totalFloor\": \"5\",\n",
    "    \"type_bhk\": \"BHK3\", \"LIFT\": \"True\", \"GYM\": \"False\", \"INTERNET\": \"False\",\n",
    "    \"AC\": \"False\", \"CLUB\": \"False\", \"INTERCOM\": \"False\", \"POOL\": \"False\",\n",
    "    \"CPA\": \"True\", \"FS\": \"False\", \"SERVANT\": \"False\", \"SECURITY\": \"True\",\n",
    "    \"SC\": \"False\", \"GP\": \"False\", \"PARK\": \"False\", \"RWH\": \"True\", \"STP\": \"False\",\n",
    "    \"HK\": \"False\", \"PB\": \"True\", \"VP\": \"True\"\n",
    "}\n",
    "\n",
    "categorical_columns = ['active', 'furnishingDesc', 'isMaintenance', 'loanAvailable', 'parking', 'propertyType', 'sharedAccomodation', 'swimmingPool', 'type_bhk', 'LIFT', 'GYM', 'INTERNET', 'AC', 'CLUB', 'INTERCOM', 'POOL', 'CPA', 'FS', 'SERVANT', 'SECURITY', 'SC', 'GP', 'PARK', 'RWH', 'STP', 'HK', 'PB', 'VP']\n",
    "numeric_columns = ['bathroom', 'floor', 'property_age', 'property_size', 'totalFloor']\n",
    "\n",
    "# One-hot encode input data using the columns from the training set\n",
    "input_df = pd.DataFrame([input_data])\n",
    "input_df = pd.get_dummies(input_df, columns=categorical_columns)\n",
    "\n",
    "# Extract latitude and longitude from 'location' tuple\n",
    "input_df[['latitude', 'longitude']] = pd.DataFrame([eval(input_df['location'].iloc[0])])\n",
    "\n",
    "# Drop the original 'location' column\n",
    "input_df = input_df.drop('location', axis=1)\n",
    "\n",
    "# Align columns with the training set DataFrame\n",
    "input_df = input_df.reindex(columns=X_train.columns, fill_value=0)\n",
    "\n",
    "# Convert relevant columns to numeric types\n",
    "input_df[numeric_columns] = input_df[numeric_columns].apply(pd.to_numeric, errors='coerce')\n",
    "\n",
    "print(input_df)"
   ]
  },
  {
   "cell_type": "code",
   "execution_count": 41,
   "metadata": {},
   "outputs": [
    {
     "data": {
      "text/plain": [
       "Index(['bathroom', 'floor', 'property_age', 'property_size', 'totalFloor',\n",
       "       'active_True', 'furnishingDesc_Full', 'furnishingDesc_Semi',\n",
       "       'furnishingDesc_Unfurnished', 'isMaintenance_False',\n",
       "       ...\n",
       "       'locality_west hanuman nagar Boduppal', 'locality_whisper valley',\n",
       "       'locality_yellammabanda.com',\n",
       "       'locality_yousuf manzil, Kachiguda Kamela', 'locality_yousufguda',\n",
       "       'locality_yousufguda ', 'locality_zamistanpur', 'locality_zzathnagar',\n",
       "       'latitude', 'longitude'],\n",
       "      dtype='object', length=2704)"
      ]
     },
     "execution_count": 41,
     "metadata": {},
     "output_type": "execute_result"
    }
   ],
   "source": [
    "# Reorder columns to match the training data\n",
    "X_train.columns"
   ]
  },
  {
   "cell_type": "code",
   "execution_count": 42,
   "metadata": {},
   "outputs": [
    {
     "data": {
      "text/plain": [
       "Index(['bathroom', 'floor', 'property_age', 'property_size', 'totalFloor',\n",
       "       'active_True', 'furnishingDesc_Full', 'furnishingDesc_Semi',\n",
       "       'furnishingDesc_Unfurnished', 'isMaintenance_False',\n",
       "       ...\n",
       "       'locality_west hanuman nagar Boduppal', 'locality_whisper valley',\n",
       "       'locality_yellammabanda.com',\n",
       "       'locality_yousuf manzil, Kachiguda Kamela', 'locality_yousufguda',\n",
       "       'locality_yousufguda ', 'locality_zamistanpur', 'locality_zzathnagar',\n",
       "       'latitude', 'longitude'],\n",
       "      dtype='object', length=2704)"
      ]
     },
     "execution_count": 42,
     "metadata": {},
     "output_type": "execute_result"
    }
   ],
   "source": [
    "input_df.columns"
   ]
  },
  {
   "cell_type": "code",
   "execution_count": 45,
   "metadata": {},
   "outputs": [
    {
     "data": {
      "text/plain": [
       "array([[65952.22 , 27465.855]], dtype=float32)"
      ]
     },
     "execution_count": 45,
     "metadata": {},
     "output_type": "execute_result"
    }
   ],
   "source": [
    "# Assuming the model returns a single prediction array\n",
    "predictions = xgb_model.predict(input_df)\n",
    "predictions"
   ]
  },
  {
   "cell_type": "code",
   "execution_count": 46,
   "metadata": {},
   "outputs": [],
   "source": [
    "X_train.to_csv('X_train.csv')"
   ]
  },
  {
   "cell_type": "code",
   "execution_count": null,
   "metadata": {},
   "outputs": [],
   "source": []
  }
 ],
 "metadata": {
  "kernelspec": {
   "display_name": "Python 3",
   "language": "python",
   "name": "python3"
  },
  "language_info": {
   "codemirror_mode": {
    "name": "ipython",
    "version": 3
   },
   "file_extension": ".py",
   "mimetype": "text/x-python",
   "name": "python",
   "nbconvert_exporter": "python",
   "pygments_lexer": "ipython3",
   "version": "3.12.1"
  }
 },
 "nbformat": 4,
 "nbformat_minor": 2
}
